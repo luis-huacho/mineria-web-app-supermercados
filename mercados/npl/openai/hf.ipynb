{
 "cells": [
  {
   "cell_type": "code",
   "id": "initial_id",
   "metadata": {
    "collapsed": true,
    "ExecuteTime": {
     "end_time": "2024-12-06T02:34:25.891823Z",
     "start_time": "2024-12-06T02:34:25.764265Z"
    }
   },
   "source": [
    "from huggingface_hub import login\n",
    "import os\n",
    "from dotenv import load_dotenv\n",
    "\n",
    "# Cargar variables de entorno desde el archivo .env\n",
    "load_dotenv()\n",
    "\n",
    "# Obtener el valor de HF_TOKEN\n",
    "huggingface_token = os.getenv(\"HUGGINGFACE_TOKEN\")\n",
    "\n",
    "if huggingface_token:\n",
    "    # Autenticarse con Hugging Face\n",
    "    login(huggingface_token)\n",
    "    print(\"Autenticado con Hugging Face\")\n",
    "else:\n",
    "    print(\"Error: No se encontró el token en el archivo .env\")"
   ],
   "outputs": [
    {
     "name": "stderr",
     "output_type": "stream",
     "text": [
      "Note: Environment variable`HF_TOKEN` is set and is the current active token independently from the token you've just configured.\n"
     ]
    },
    {
     "name": "stdout",
     "output_type": "stream",
     "text": [
      "Autenticado con Hugging Face\n"
     ]
    }
   ],
   "execution_count": 4
  },
  {
   "metadata": {},
   "cell_type": "markdown",
   "source": "# Recetas de https://huggingface.co/datasets/somosnlp/recetas-cocina",
   "id": "7c94a4f7e8a3da6d"
  },
  {
   "metadata": {
    "ExecuteTime": {
     "end_time": "2024-12-08T13:46:03.729384Z",
     "start_time": "2024-12-08T13:46:03.726740Z"
    }
   },
   "cell_type": "code",
   "source": [
    "# import pandas as pd\n",
    "#\n",
    "# df = pd.read_csv(\"hf://datasets/somosnlp/recetas-cocina/dataset.csv\")"
   ],
   "id": "404dcafa834899dd",
   "outputs": [],
   "execution_count": 6
  },
  {
   "metadata": {
    "ExecuteTime": {
     "end_time": "2024-12-08T13:45:56.194438Z",
     "start_time": "2024-12-08T13:45:56.192151Z"
    }
   },
   "cell_type": "code",
   "source": "# df.sample(n=5)",
   "id": "f764c9623449b189",
   "outputs": [],
   "execution_count": 5
  },
  {
   "metadata": {
    "ExecuteTime": {
     "end_time": "2024-12-08T13:45:53.504002Z",
     "start_time": "2024-12-08T13:45:53.501648Z"
    }
   },
   "cell_type": "code",
   "source": [
    "# import pandas as pd\n",
    "#\n",
    "# df = pd.read_parquet(\"hf://datasets/somosnlp/recetasdelaabuela_genstruct_it/data/train-00000-of-00001.parquet\")"
   ],
   "id": "196f2f640253a7f7",
   "outputs": [],
   "execution_count": 4
  },
  {
   "metadata": {
    "ExecuteTime": {
     "end_time": "2024-12-08T13:45:44.539992Z",
     "start_time": "2024-12-08T13:45:44.536592Z"
    }
   },
   "cell_type": "code",
   "source": "# df.sample(n=5)",
   "id": "6d96567d3f2c7c05",
   "outputs": [],
   "execution_count": 2
  },
  {
   "metadata": {
    "ExecuteTime": {
     "end_time": "2024-12-08T13:45:44.470586Z",
     "start_time": "2024-12-08T13:45:44.466832Z"
    }
   },
   "cell_type": "code",
   "source": "# df.iloc[1].to_dict()",
   "id": "1fbf1ae094da4d17",
   "outputs": [],
   "execution_count": 1
  },
  {
   "metadata": {
    "ExecuteTime": {
     "end_time": "2024-12-08T20:27:02.412185Z",
     "start_time": "2024-12-08T20:26:57.012044Z"
    }
   },
   "cell_type": "code",
   "source": [
    "# Importamos \"pipeline\" de \"Transformers\"\n",
    "from transformers import pipeline\n",
    "qa = pipeline(\"question-answering\")"
   ],
   "id": "88252dd542703b49",
   "outputs": [
    {
     "name": "stderr",
     "output_type": "stream",
     "text": [
      "No model was supplied, defaulted to distilbert/distilbert-base-cased-distilled-squad and revision 564e9b5 (https://huggingface.co/distilbert/distilbert-base-cased-distilled-squad).\n",
      "Using a pipeline without specifying a model name and revision in production is not recommended.\n"
     ]
    }
   ],
   "execution_count": 1
  },
  {
   "metadata": {
    "ExecuteTime": {
     "end_time": "2024-12-08T20:47:56.779549Z",
     "start_time": "2024-12-08T20:47:56.775676Z"
    }
   },
   "cell_type": "code",
   "source": "context = \"Producto: Agua Tónica BRITVIC Paquete 12un Lata 150ml. Descripción: .Agua tónica Marca: BRITVIC  Contenido: 12un de 150ml  .AGUASplazaVea presenta una gran variedad de Bebidas para que elijas tu favorita de acuerdo a diferentes situaciones u ocasiones especiales. Hidratarse es muy importante para el correcto cuidado de nuestro organismo, además que nos ayuda a lucir mejor, porque una piel hidratada se refleja siempre en el exterior. Por tal motivo, te ofrecemos diferentes presentaciones de Aguas: agua en sixpack, agua en bidón, agua personal, agua de 2.5 litros y más.Puedes elegir entre Agua Mineral y Agua de Mesa en las marcas más populares del mercado. También puedes revisar nuestras opciones de Aguas Saborizadas para que te hidrates con una opción más rica pero libre de azúcares. . Categorías: Bebidas, Aguas, Agua Tónica\"",
   "id": "f2d6b861833d25a",
   "outputs": [],
   "execution_count": 5
  },
  {
   "metadata": {
    "ExecuteTime": {
     "end_time": "2024-12-08T20:47:58.996995Z",
     "start_time": "2024-12-08T20:47:58.762023Z"
    }
   },
   "cell_type": "code",
   "source": [
    "question = \"cuál es el producto de la descripción?\"\n",
    "qa(question=question, context=context)"
   ],
   "id": "de90faff5d150bc4",
   "outputs": [
    {
     "data": {
      "text/plain": [
       "{'score': 0.031935982406139374,\n",
       " 'start': 69,\n",
       " 'end': 86,\n",
       " 'answer': 'Agua tónica Marca'}"
      ]
     },
     "execution_count": 6,
     "metadata": {},
     "output_type": "execute_result"
    }
   ],
   "execution_count": 6
  },
  {
   "metadata": {
    "ExecuteTime": {
     "end_time": "2024-12-08T21:06:17.013981Z",
     "start_time": "2024-12-08T21:06:04.760039Z"
    }
   },
   "cell_type": "code",
   "source": [
    "from transformers import AutoTokenizer, AutoModelForQuestionAnswering, pipeline\n",
    "\n",
    "# Cargar el modelo y el tokenizador de BETO\n",
    "model_name = \"dccuchile/bert-base-spanish-wwm-cased\"\n",
    "tokenizer = AutoTokenizer.from_pretrained(model_name)\n",
    "model = AutoModelForQuestionAnswering.from_pretrained(model_name)\n",
    "\n",
    "# Crear la pipeline de Question Answering\n",
    "qa_pipeline = pipeline(\"question-answering\", model=model, tokenizer=tokenizer)\n",
    "\n",
    "# Contexto y pregunta en español\n",
    "contexto = \"\"\"\n",
    "Producto: Agua Tónica BRITVIC Paquete 12un Lata 150ml. Descripción: Agua tónica Marca: BRITVIC\n",
    "Contenido: 12un de 150ml. AGUASplazaVea presenta una gran variedad de Bebidas para que elijas tu favorita\n",
    "de acuerdo a diferentes situaciones u ocasiones especiales. Hidratarse es muy importante para el correcto\n",
    "cuidado de nuestro organismo, además que nos ayuda a lucir mejor, porque una piel hidratada se refleja siempre\n",
    "en el exterior. Por tal motivo, te ofrecemos diferentes presentaciones de Aguas: agua en sixpack, agua en bidón,\n",
    "agua personal, agua de 2.5 litros y más. Puedes elegir entre Agua Mineral y Agua de Mesa en las marcas más populares\n",
    "del mercado. También puedes revisar nuestras opciones de Aguas Saborizadas para que te hidrates con una opción\n",
    "más rica pero libre de azúcares. Categorías: Bebidas, Aguas, Agua Tónica.\n",
    "\"\"\"\n",
    "pregunta = \"¿Cuál es el producto?\"\n",
    "\n",
    "# Realizar la predicción\n",
    "respuesta = qa_pipeline(question=pregunta, context=contexto)\n",
    "\n",
    "# Mostrar la respuesta\n",
    "print(f\"Respuesta: {respuesta['answer']}\")\n"
   ],
   "id": "655963027b8a9260",
   "outputs": [
    {
     "data": {
      "text/plain": [
       "tokenizer_config.json:   0%|          | 0.00/364 [00:00<?, ?B/s]"
      ],
      "application/vnd.jupyter.widget-view+json": {
       "version_major": 2,
       "version_minor": 0,
       "model_id": "5ec5245651ff4799987754e25586365d"
      }
     },
     "metadata": {},
     "output_type": "display_data"
    },
    {
     "data": {
      "text/plain": [
       "config.json:   0%|          | 0.00/648 [00:00<?, ?B/s]"
      ],
      "application/vnd.jupyter.widget-view+json": {
       "version_major": 2,
       "version_minor": 0,
       "model_id": "c72909703a5f4a6eb0d013f0369bd78b"
      }
     },
     "metadata": {},
     "output_type": "display_data"
    },
    {
     "data": {
      "text/plain": [
       "vocab.txt:   0%|          | 0.00/242k [00:00<?, ?B/s]"
      ],
      "application/vnd.jupyter.widget-view+json": {
       "version_major": 2,
       "version_minor": 0,
       "model_id": "5f999caf532b41c9847d7e5191998a8b"
      }
     },
     "metadata": {},
     "output_type": "display_data"
    },
    {
     "data": {
      "text/plain": [
       "tokenizer.json:   0%|          | 0.00/480k [00:00<?, ?B/s]"
      ],
      "application/vnd.jupyter.widget-view+json": {
       "version_major": 2,
       "version_minor": 0,
       "model_id": "8b1148d57ce743b3ba205fa069c1726f"
      }
     },
     "metadata": {},
     "output_type": "display_data"
    },
    {
     "data": {
      "text/plain": [
       "special_tokens_map.json:   0%|          | 0.00/134 [00:00<?, ?B/s]"
      ],
      "application/vnd.jupyter.widget-view+json": {
       "version_major": 2,
       "version_minor": 0,
       "model_id": "1ad363181d3b42709df0413b948a4ae3"
      }
     },
     "metadata": {},
     "output_type": "display_data"
    },
    {
     "data": {
      "text/plain": [
       "pytorch_model.bin:   0%|          | 0.00/440M [00:00<?, ?B/s]"
      ],
      "application/vnd.jupyter.widget-view+json": {
       "version_major": 2,
       "version_minor": 0,
       "model_id": "e30b52f1ccc04b0da66bdf6bfce1da62"
      }
     },
     "metadata": {},
     "output_type": "display_data"
    },
    {
     "name": "stderr",
     "output_type": "stream",
     "text": [
      "Some weights of BertForQuestionAnswering were not initialized from the model checkpoint at dccuchile/bert-base-spanish-wwm-cased and are newly initialized: ['qa_outputs.bias', 'qa_outputs.weight']\n",
      "You should probably TRAIN this model on a down-stream task to be able to use it for predictions and inference.\n"
     ]
    },
    {
     "name": "stdout",
     "output_type": "stream",
     "text": [
      "Respuesta: Hidratarse es muy importante para el correcto\n",
      "cuidado\n"
     ]
    }
   ],
   "execution_count": 12
  },
  {
   "metadata": {
    "ExecuteTime": {
     "end_time": "2024-12-08T21:08:16.028809Z",
     "start_time": "2024-12-08T21:08:15.179433Z"
    }
   },
   "cell_type": "code",
   "source": [
    "import os\n",
    "import pandas as pd\n",
    "from openai import OpenAI\n",
    "from dotenv import load_dotenv\n",
    "import time\n",
    "import numpy as np\n",
    "import openai\n",
    "\n",
    "# Cargar variables de entorno desde el archivo .env\n",
    "load_dotenv()\n",
    "\n",
    "# Obtener el valor de OPENAI_API_KEY\n",
    "api_key = os.getenv(\"OPENAI_API_KEY\")\n",
    "\n",
    "client = OpenAI(\n",
    "    api_key = api_key,\n",
    ")\n",
    "\n",
    "# Contexto y pregunta\n",
    "contexto = \"\"\"\n",
    "Producto: Agua Tónica BRITVIC Paquete 12un Lata 150ml. Descripción: Agua tónica Marca: BRITVIC\n",
    "Contenido: 12un de 150ml. AGUASplazaVea presenta una gran variedad de Bebidas para que elijas tu favorita\n",
    "de acuerdo a diferentes situaciones u ocasiones especiales. Hidratarse es muy importante para el correcto\n",
    "cuidado de nuestro organismo, además que nos ayuda a lucir mejor, porque una piel hidratada se refleja siempre\n",
    "en el exterior. Por tal motivo, te ofrecemos diferentes presentaciones de Aguas: agua en sixpack, agua en bidón,\n",
    "agua personal, agua de 2.5 litros y más. Puedes elegir entre Agua Mineral y Agua de Mesa en las marcas más populares\n",
    "del mercado. También puedes revisar nuestras opciones de Aguas Saborizadas para que te hidrates con una opción\n",
    "más rica pero libre de azúcares. Categorías: Bebidas, Aguas, Agua Tónica.\n",
    "\"\"\"\n",
    "pregunta = \"¿Cuál es el producto?\"\n",
    "\n",
    "# Solicitar respuesta al modelo\n",
    "response = openai.ChatCompletion.create(\n",
    "    model=\"gpt-3.5-turbo\",  # Puedes usar gpt-4 para mayor precisión\n",
    "    messages=[\n",
    "        {\"role\": \"system\", \"content\": \"Eres un asistente especializado en responder preguntas en español.\"},\n",
    "        {\"role\": \"user\", \"content\": f\"Contexto: {contexto}\\nPregunta: {pregunta}\"}\n",
    "    ],\n",
    "    temperature=0.2,  # Baja aleatoriedad para respuestas más precisas\n",
    ")\n",
    "\n",
    "# Obtener la respuesta\n",
    "respuesta = response[\"choices\"][0][\"message\"][\"content\"]\n",
    "print(f\"Respuesta: {respuesta}\")\n"
   ],
   "id": "4dbb8b6422a2f62",
   "outputs": [
    {
     "ename": "OpenAIError",
     "evalue": "The api_key client option must be set either by passing api_key to the client or by setting the OPENAI_API_KEY environment variable",
     "output_type": "error",
     "traceback": [
      "\u001B[0;31m---------------------------------------------------------------------------\u001B[0m",
      "\u001B[0;31mOpenAIError\u001B[0m                               Traceback (most recent call last)",
      "Cell \u001B[0;32mIn[13], line 15\u001B[0m\n\u001B[1;32m     12\u001B[0m \u001B[38;5;66;03m# Obtener el valor de OPENAI_API_KEY\u001B[39;00m\n\u001B[1;32m     13\u001B[0m api_key \u001B[38;5;241m=\u001B[39m os\u001B[38;5;241m.\u001B[39mgetenv(\u001B[38;5;124m\"\u001B[39m\u001B[38;5;124mOPENAI_API_KEY\u001B[39m\u001B[38;5;124m\"\u001B[39m)\n\u001B[0;32m---> 15\u001B[0m client \u001B[38;5;241m=\u001B[39m \u001B[43mOpenAI\u001B[49m\u001B[43m(\u001B[49m\n\u001B[1;32m     16\u001B[0m \u001B[43m    \u001B[49m\u001B[43mapi_key\u001B[49m\u001B[43m \u001B[49m\u001B[38;5;241;43m=\u001B[39;49m\u001B[43m \u001B[49m\u001B[43mapi_key\u001B[49m\u001B[43m,\u001B[49m\n\u001B[1;32m     17\u001B[0m \u001B[43m)\u001B[49m\n\u001B[1;32m     19\u001B[0m \u001B[38;5;66;03m# Contexto y pregunta\u001B[39;00m\n\u001B[1;32m     20\u001B[0m contexto \u001B[38;5;241m=\u001B[39m \u001B[38;5;124m\"\"\"\u001B[39m\n\u001B[1;32m     21\u001B[0m \u001B[38;5;124mProducto: Agua Tónica BRITVIC Paquete 12un Lata 150ml. Descripción: Agua tónica Marca: BRITVIC\u001B[39m\n\u001B[1;32m     22\u001B[0m \u001B[38;5;124mContenido: 12un de 150ml. AGUASplazaVea presenta una gran variedad de Bebidas para que elijas tu favorita\u001B[39m\n\u001B[0;32m   (...)\u001B[0m\n\u001B[1;32m     28\u001B[0m \u001B[38;5;124mmás rica pero libre de azúcares. Categorías: Bebidas, Aguas, Agua Tónica.\u001B[39m\n\u001B[1;32m     29\u001B[0m \u001B[38;5;124m\"\"\"\u001B[39m\n",
      "File \u001B[0;32m~/python-envs/.env-3.11/lib/python3.11/site-packages/openai/_client.py:105\u001B[0m, in \u001B[0;36mOpenAI.__init__\u001B[0;34m(self, api_key, organization, project, base_url, timeout, max_retries, default_headers, default_query, http_client, _strict_response_validation)\u001B[0m\n\u001B[1;32m    103\u001B[0m     api_key \u001B[38;5;241m=\u001B[39m os\u001B[38;5;241m.\u001B[39menviron\u001B[38;5;241m.\u001B[39mget(\u001B[38;5;124m\"\u001B[39m\u001B[38;5;124mOPENAI_API_KEY\u001B[39m\u001B[38;5;124m\"\u001B[39m)\n\u001B[1;32m    104\u001B[0m \u001B[38;5;28;01mif\u001B[39;00m api_key \u001B[38;5;129;01mis\u001B[39;00m \u001B[38;5;28;01mNone\u001B[39;00m:\n\u001B[0;32m--> 105\u001B[0m     \u001B[38;5;28;01mraise\u001B[39;00m OpenAIError(\n\u001B[1;32m    106\u001B[0m         \u001B[38;5;124m\"\u001B[39m\u001B[38;5;124mThe api_key client option must be set either by passing api_key to the client or by setting the OPENAI_API_KEY environment variable\u001B[39m\u001B[38;5;124m\"\u001B[39m\n\u001B[1;32m    107\u001B[0m     )\n\u001B[1;32m    108\u001B[0m \u001B[38;5;28mself\u001B[39m\u001B[38;5;241m.\u001B[39mapi_key \u001B[38;5;241m=\u001B[39m api_key\n\u001B[1;32m    110\u001B[0m \u001B[38;5;28;01mif\u001B[39;00m organization \u001B[38;5;129;01mis\u001B[39;00m \u001B[38;5;28;01mNone\u001B[39;00m:\n",
      "\u001B[0;31mOpenAIError\u001B[0m: The api_key client option must be set either by passing api_key to the client or by setting the OPENAI_API_KEY environment variable"
     ]
    }
   ],
   "execution_count": 13
  }
 ],
 "metadata": {
  "kernelspec": {
   "display_name": "Python 3",
   "language": "python",
   "name": "python3"
  },
  "language_info": {
   "codemirror_mode": {
    "name": "ipython",
    "version": 2
   },
   "file_extension": ".py",
   "mimetype": "text/x-python",
   "name": "python",
   "nbconvert_exporter": "python",
   "pygments_lexer": "ipython2",
   "version": "2.7.6"
  }
 },
 "nbformat": 4,
 "nbformat_minor": 5
}
