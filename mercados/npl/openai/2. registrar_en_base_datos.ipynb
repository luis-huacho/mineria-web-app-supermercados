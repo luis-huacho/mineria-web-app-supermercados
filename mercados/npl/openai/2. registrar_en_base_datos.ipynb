{
 "cells": [
  {
   "metadata": {
    "ExecuteTime": {
     "end_time": "2024-11-12T05:47:30.853860Z",
     "start_time": "2024-11-12T05:47:28.235642Z"
    }
   },
   "cell_type": "code",
   "source": [
    "import pandas as pd\n",
    "import numpy as np\n",
    "\n",
    "data = pd.read_parquet('productos_con_embeddings.parquet')\n",
    "\n",
    "# data.sample(n=3)"
   ],
   "id": "21457a27b903b35e",
   "outputs": [],
   "execution_count": 1
  },
  {
   "metadata": {
    "ExecuteTime": {
     "end_time": "2024-11-12T05:47:33.278856Z",
     "start_time": "2024-11-12T05:47:32.326660Z"
    }
   },
   "cell_type": "code",
   "source": [
    "from chromadb import PersistentClient\n",
    "client = PersistentClient(path=\"./chroma_db\")\n",
    "collection = client.get_or_create_collection(name=\"productos\")\n",
    "\n",
    "\n"
   ],
   "id": "b0051b9d1727aa5f",
   "outputs": [],
   "execution_count": 2
  },
  {
   "cell_type": "code",
   "id": "initial_id",
   "metadata": {
    "collapsed": true,
    "ExecuteTime": {
     "end_time": "2024-11-12T05:47:35.133432Z",
     "start_time": "2024-11-12T05:47:35.074773Z"
    }
   },
   "source": [
    "i = 0\n",
    "# Insertar registros en ChromaDB\n",
    "for idx, row in data.iterrows():\n",
    "    # Asegurarse de que el embedding esté en formato de lista\n",
    "    # embedding = json.loads(row[\"embedding\"]) if isinstance(row[\"embedding\"], str) else row[\"embedding\"]\n",
    "    i += 1\n",
    "    collection.add(\n",
    "        ids=[str(idx)],  # ID único para cada registro\n",
    "        documents=[f\"{row['product_name']} {row['descripcion_producto']} {' '.join(row['categories'])}\"],\n",
    "        metadatas=[{\n",
    "            \"producto\": row[\"product_name\"],\n",
    "            \"enlace\": row[\"link\"],\n",
    "            \"precio\": row[\"price\"],\n",
    "            \"mercado\": row[\"source\"],\n",
    "            \"descripcion\": row[\"descripcion_producto\"]\n",
    "        }],\n",
    "        embeddings=[np.array([0.1, 0.2, 0.3])]  # Embedding pre-generado\n",
    "    )\n",
    "    if i > 5:\n",
    "        break\n"
   ],
   "outputs": [],
   "execution_count": 3
  },
  {
   "metadata": {
    "ExecuteTime": {
     "end_time": "2024-11-12T05:47:39.866468Z",
     "start_time": "2024-11-12T05:47:39.859839Z"
    }
   },
   "cell_type": "code",
   "source": [
    "# Recuperar un registro por su ID\n",
    "result = collection.get(ids=[\"0\"])\n",
    "\n",
    "# Imprimir el registro\n",
    "print(result)\n"
   ],
   "id": "ed8e5b1c84d54258",
   "outputs": [
    {
     "name": "stdout",
     "output_type": "stream",
     "text": [
      "{'ids': ['0'], 'embeddings': None, 'documents': ['Agua Tónica BRITVIC Paquete 12un Lata 150ml .Agua tónica Marca: BRITVIC  Contenido: 12un de 150ml  .AGUASplazaVea presenta una gran variedad de Bebidas para que elijas tu favorita de acuerdo a diferentes situaciones u ocasiones especiales. Hidratarse es muy importante para el correcto cuidado de nuestro organismo, además que nos ayuda a lucir mejor, porque una piel hidratada se refleja siempre en el exterior. Por tal motivo, te ofrecemos diferentes presentaciones de Aguas: agua en sixpack, agua en bidón, agua personal, agua de 2.5 litros y más.Puedes elegir entre Agua Mineral y Agua de Mesa en las marcas más populares del mercado. También puedes revisar nuestras opciones de Aguas Saborizadas para que te hidrates con una opción más rica pero libre de azúcares.  Bebidas Aguas Agua Tónica'], 'uris': None, 'data': None, 'metadatas': [{'descripcion': '.Agua tónica Marca: BRITVIC  Contenido: 12un de 150ml  .AGUASplazaVea presenta una gran variedad de Bebidas para que elijas tu favorita de acuerdo a diferentes situaciones u ocasiones especiales. Hidratarse es muy importante para el correcto cuidado de nuestro organismo, además que nos ayuda a lucir mejor, porque una piel hidratada se refleja siempre en el exterior. Por tal motivo, te ofrecemos diferentes presentaciones de Aguas: agua en sixpack, agua en bidón, agua personal, agua de 2.5 litros y más.Puedes elegir entre Agua Mineral y Agua de Mesa en las marcas más populares del mercado. También puedes revisar nuestras opciones de Aguas Saborizadas para que te hidrates con una opción más rica pero libre de azúcares. ', 'enlace': 'https://www.plazavea.com.pe/agua-tonica-britvic-paquete-12un-x-lata-150ml/p', 'mercado': 'plazaVea', 'precio': 57.9, 'producto': 'Agua Tónica BRITVIC Paquete 12un Lata 150ml'}], 'included': [<IncludeEnum.documents: 'documents'>, <IncludeEnum.metadatas: 'metadatas'>]}\n"
     ]
    }
   ],
   "execution_count": 4
  },
  {
   "metadata": {},
   "cell_type": "code",
   "source": [
    "def visualize_chromadb_data(collection, limit=10):\n",
    "    \"\"\"\n",
    "    Visualiza la información almacenada en una colección de ChromaDB.\n",
    "    \n",
    "    Args:\n",
    "        collection: La colección de ChromaDB que deseas visualizar.\n",
    "        limit: Número máximo de registros a mostrar (por defecto 10).\n",
    "        \n",
    "    Returns:\n",
    "        None. Imprime los datos en formato tabular.\n",
    "    \"\"\"\n",
    "    # Recupera todos los IDs de la colección\n",
    "    ids = collection.get()['ids'][:limit]\n",
    "    \n",
    "    # Inicializa listas para guardar los datos\n",
    "    data_rows = []\n",
    "    \n",
    "    for i in ids:\n",
    "        # Recupera los datos de cada ID\n",
    "        record = collection.get(ids=[i])\n",
    "        document = record.get('documents', [None])[0] if record.get('documents') else \"Sin documento\"\n",
    "        metadata = record.get('metadatas', [None])[0] if record.get('metadatas') else \"Sin metadatos\"\n",
    "        embedding = record.get('embeddings', [None])[0] if record.get('embeddings') else \"Sin embedding\"\n",
    "        \n",
    "        # Agrega una fila a la lista\n",
    "        data_rows.append({\n",
    "            'ID': i,\n",
    "            'Documento': document,\n",
    "            'Metadatos': metadata,\n",
    "            'Embedding': embedding\n",
    "        })\n",
    "    \n",
    "    # Convierte los datos a un DataFrame para mejor visualización\n",
    "    df = pd.DataFrame(data_rows)\n",
    "    print(df.to_string(index=False))  # Imprime el DataFrame sin índice\n",
    "\n",
    "# Ejemplo de uso\n",
    "visualize_chromadb_data(collection)"
   ],
   "id": "85779c58f4846e0c",
   "outputs": [],
   "execution_count": null
  },
  {
   "metadata": {},
   "cell_type": "code",
   "source": [
    "import json\n",
    "i=0\n",
    "# Insertar registros en ChromaDB\n",
    "for idx, row in data.iterrows():\n",
    "    i += 1\n",
    "    print(type(row[\"embedding\"]))\n",
    "    print(row[\"embedding\"][0:5].tolist())\n",
    "\n",
    "    # Asegurarse de que el embedding esté en formato de lista\n",
    "    embedding = json.loads(row[\"embedding\"]) if isinstance(row[\"embedding\"], str) else row[\"embedding\"]\n",
    "    # print(embedding)\n",
    "    if i > 5:\n",
    "        break\n",
    "    \n",
    "    \n",
    "    # collection.add(\n",
    "    #     ids=[str(idx)],  # ID único para cada registro\n",
    "    #     documents=[f\"{row['product_name']} {row['descripcion_producto']} {' '.join(row['categories'])}\"],\n",
    "    #     metadatas=[{\n",
    "    #         \"producto\": row[\"product_name\"],\n",
    "    #         \"enlace\": row[\"link\"],\n",
    "    #         \"precio\": row[\"price\"],\n",
    "    #         \"mercado\": row[\"source\"],\n",
    "    #         \"descripcion\": row[\"descripcion_producto\"]\n",
    "    #     }],\n",
    "    #     embeddings=[embedding]  # Embedding pre-generado\n",
    "    # )\n"
   ],
   "id": "47f54c3f97279dc3",
   "outputs": [],
   "execution_count": null
  },
  {
   "metadata": {},
   "cell_type": "code",
   "source": [
    "def visualize_chromadb_with_valid_embeddings(collection, limit=10):\n",
    "    \"\"\"\n",
    "    Visualiza los registros de ChromaDB que tienen embeddings válidos.\n",
    "    \n",
    "    Args:\n",
    "        collection: La colección de ChromaDB que deseas visualizar.\n",
    "        limit: Número máximo de registros a mostrar (por defecto 10).\n",
    "        \n",
    "    Returns:\n",
    "        None. Imprime los datos en formato tabular.\n",
    "    \"\"\"\n",
    "    # Recupera todos los IDs de la colección\n",
    "    ids = collection.get()['ids']\n",
    "    \n",
    "    # Inicializa listas para guardar los datos\n",
    "    data_rows = []\n",
    "    count = 0\n",
    "    \n",
    "    for i in ids:\n",
    "        # Recupera los datos de cada ID\n",
    "        record = collection.get(ids=[i])\n",
    "        embedding = record.get('embeddings', [None])[0] if record.get('embeddings') else None\n",
    "        \n",
    "        # Solo procesar registros con embeddings válidos\n",
    "        if embedding is not None:\n",
    "            document = record.get('documents', [None])[0]\n",
    "            metadata = record.get('metadatas', [None])[0]\n",
    "            \n",
    "            # Agrega una fila a la lista\n",
    "            data_rows.append({\n",
    "                'ID': i,\n",
    "                'Documento': document if document else \"Sin documento\",\n",
    "                'Metadatos': metadata if metadata else \"Sin metadatos\",\n",
    "                'Embedding': embedding\n",
    "            })\n",
    "            \n",
    "            count += 1\n",
    "            if count >= limit:\n",
    "                break\n",
    "    \n",
    "    # Convierte los datos a un DataFrame para mejor visualización\n",
    "    if data_rows:\n",
    "        df = pd.DataFrame(data_rows)\n",
    "        print(df.to_string(index=False))  # Imprime el DataFrame sin índice\n",
    "    else:\n",
    "        print(\"No hay registros con embeddings válidos.\")\n",
    "\n",
    "# Ejemplo de uso\n",
    "visualize_chromadb_with_valid_embeddings(collection, limit=10)\n"
   ],
   "id": "586e176f0f9eccf3",
   "outputs": [],
   "execution_count": null
  }
 ],
 "metadata": {
  "kernelspec": {
   "display_name": "Python 3",
   "language": "python",
   "name": "python3"
  },
  "language_info": {
   "codemirror_mode": {
    "name": "ipython",
    "version": 2
   },
   "file_extension": ".py",
   "mimetype": "text/x-python",
   "name": "python",
   "nbconvert_exporter": "python",
   "pygments_lexer": "ipython2",
   "version": "2.7.6"
  }
 },
 "nbformat": 4,
 "nbformat_minor": 5
}
