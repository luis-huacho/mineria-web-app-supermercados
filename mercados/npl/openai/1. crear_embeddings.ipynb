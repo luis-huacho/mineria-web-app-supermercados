{
 "cells": [
  {
   "metadata": {
    "ExecuteTime": {
     "end_time": "2024-11-16T04:19:52.263293Z",
     "start_time": "2024-11-16T04:19:51.448475Z"
    }
   },
   "cell_type": "code",
   "source": [
    "import os\n",
    "import pandas as pd\n",
    "from openai import OpenAI\n",
    "from dotenv import load_dotenv\n",
    "import time\n",
    "import numpy as np\n",
    "import ast\n",
    "\n",
    "# Cargar variables de entorno desde el archivo .env\n",
    "load_dotenv()\n",
    "\n",
    "# Obtener el valor de OPENAI_API_KEY\n",
    "api_key = os.getenv(\"OPENAI_API_KEY\")\n",
    "\n",
    "gpt_client = OpenAI(\n",
    "    api_key = api_key,\n",
    ")\n",
    "\n",
    "# Carga el archivo Parquet\n",
    "data = pd.read_parquet(\"../../supermercados/plazavea/plazavea.parquet\")"
   ],
   "id": "1b4216b8c8e840f2",
   "outputs": [],
   "execution_count": 1
  },
  {
   "metadata": {},
   "cell_type": "code",
   "source": [
    "# Función actualizada para obtener embeddings\n",
    "def get_embedding(text, model=\"text-embedding-ada-002\"):\n",
    "    text = text.replace(\"\\n\", \" \")\n",
    "    response = gpt_client.embeddings.create(input = [text], model=model).data[0].embedding\n",
    "    return response\n",
    "\n",
    "# Generar embeddings y agregarlos como una nueva columna\n",
    "data[\"embedding\"] = data.apply(\n",
    "    lambda row: get_embedding(\n",
    "        f\"Producto: {row['product_name']}. Descripción: {row['descripcion_producto']}. Categorías: {' ,'.join(row['categories'])}\"\n",
    "    ), \n",
    "    axis=1\n",
    ")"
   ],
   "id": "dfbc118cdb41d99f",
   "outputs": [],
   "execution_count": null
  },
  {
   "metadata": {
    "ExecuteTime": {
     "end_time": "2024-11-11T10:26:50.109194Z",
     "start_time": "2024-11-11T05:30:46.972689Z"
    }
   },
   "cell_type": "code",
   "outputs": [],
   "execution_count": 4,
   "source": [
    "data['categories_txt'] = data['categories'].apply(lambda x: ', '.join(ast.literal_eval(x) if isinstance(x, str) else x))\n",
    "\n",
    "\n",
    "# Guarda los embeddings para uso posterior\n",
    "data.to_parquet(\"productos_con_embeddings.parquet\")"
   ],
   "id": "24b5a375d3842fa5"
  }
 ],
 "metadata": {
  "kernelspec": {
   "display_name": "Python 3",
   "language": "python",
   "name": "python3"
  },
  "language_info": {
   "codemirror_mode": {
    "name": "ipython",
    "version": 2
   },
   "file_extension": ".py",
   "mimetype": "text/x-python",
   "name": "python",
   "nbconvert_exporter": "python",
   "pygments_lexer": "ipython2",
   "version": "2.7.6"
  }
 },
 "nbformat": 4,
 "nbformat_minor": 5
}
