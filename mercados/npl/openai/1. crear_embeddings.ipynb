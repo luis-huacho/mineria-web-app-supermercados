{
 "cells": [
  {
   "metadata": {
    "ExecuteTime": {
     "end_time": "2024-12-12T15:10:45.750965Z",
     "start_time": "2024-12-12T15:10:45.316444Z"
    }
   },
   "cell_type": "code",
   "source": [
    "import os\n",
    "import pandas as pd\n",
    "from openai import OpenAI\n",
    "from dotenv import load_dotenv\n",
    "import time\n",
    "import numpy as np\n",
    "import ast\n",
    "\n",
    "# Cargar variables de entorno desde el archivo .env\n",
    "load_dotenv()\n",
    "\n",
    "# Obtener el valor de OPENAI_API_KEY\n",
    "api_key = os.getenv(\"OPENAI_API_KEY\")\n",
    "\n",
    "gpt_client = OpenAI(\n",
    "    api_key = api_key,\n",
    ")\n",
    "\n",
    "# Carga el archivo Parquet\n",
    "# data = pd.read_parquet(\"../../supermercados/plazavea/plazavea.parquet\")\n",
    "# data = pd.read_parquet(\"../../supermercados/vivanda/vivanda.parquet\")\n",
    "data = pd.read_parquet(\"../../supermercados/wong/wong.parquet\")\n",
    "# data = pd.read_parquet(\"../productos_supermercados.parquet\")"
   ],
   "id": "1b4216b8c8e840f2",
   "outputs": [],
   "execution_count": 1
  },
  {
   "metadata": {
    "ExecuteTime": {
     "end_time": "2024-12-12T15:10:54.498403Z",
     "start_time": "2024-12-12T15:10:54.476170Z"
    }
   },
   "cell_type": "code",
   "source": "data.sample(n=5)",
   "id": "8b21929ebbcc2739",
   "outputs": [
    {
     "data": {
      "text/plain": [
       "                                product_name  \\\n",
       "28355  Vela Krea Redonda Blanca Navidad 2024   \n",
       "22199          Libro Super Color +4 Amarillo   \n",
       "15158  Botella Play Pc 1.4 Lt Extraíble Blue   \n",
       "6358               Collar Minnie Ribbon Pink   \n",
       "13818           Silla Atlante Decohome Verde   \n",
       "\n",
       "                                                    link descripcion_producto  \\\n",
       "28355  https://www.wong.pe/vela-krea-redonda-blanca-n...                 Wong   \n",
       "22199  https://www.wong.pe/libro-super-color-4-amaril...                 Wong   \n",
       "15158  https://www.wong.pe/botella-play-pc-1-4-lt-ext...                 Wong   \n",
       "6358   https://www.wong.pe/collar-minnie-ribbon-pink-...                 Wong   \n",
       "13818  https://www.wong.pe/silla-atlante-decohome-ver...                 Wong   \n",
       "\n",
       "        price source                                         categories  \n",
       "28355    5.60   Wong    [Navidad, Decoración Navideña, Velas Navideñas]  \n",
       "22199   14.99   Wong  [Libros y Librería, Libros, Libros para Colore...  \n",
       "15158   34.99   Wong                 [Hogar y Bazar, Cocina, Tomatodos]  \n",
       "6358    24.90   Wong   [Mascotas, Para Perros, Artículos de Transporte]  \n",
       "13818  713.82   Wong         [Hogar y Bazar, Muebles, Sillas y Butacas]  "
      ],
      "text/html": [
       "<div>\n",
       "<style scoped>\n",
       "    .dataframe tbody tr th:only-of-type {\n",
       "        vertical-align: middle;\n",
       "    }\n",
       "\n",
       "    .dataframe tbody tr th {\n",
       "        vertical-align: top;\n",
       "    }\n",
       "\n",
       "    .dataframe thead th {\n",
       "        text-align: right;\n",
       "    }\n",
       "</style>\n",
       "<table border=\"1\" class=\"dataframe\">\n",
       "  <thead>\n",
       "    <tr style=\"text-align: right;\">\n",
       "      <th></th>\n",
       "      <th>product_name</th>\n",
       "      <th>link</th>\n",
       "      <th>descripcion_producto</th>\n",
       "      <th>price</th>\n",
       "      <th>source</th>\n",
       "      <th>categories</th>\n",
       "    </tr>\n",
       "  </thead>\n",
       "  <tbody>\n",
       "    <tr>\n",
       "      <th>28355</th>\n",
       "      <td>Vela Krea Redonda Blanca Navidad 2024</td>\n",
       "      <td>https://www.wong.pe/vela-krea-redonda-blanca-n...</td>\n",
       "      <td>Wong</td>\n",
       "      <td>5.60</td>\n",
       "      <td>Wong</td>\n",
       "      <td>[Navidad, Decoración Navideña, Velas Navideñas]</td>\n",
       "    </tr>\n",
       "    <tr>\n",
       "      <th>22199</th>\n",
       "      <td>Libro Super Color +4 Amarillo</td>\n",
       "      <td>https://www.wong.pe/libro-super-color-4-amaril...</td>\n",
       "      <td>Wong</td>\n",
       "      <td>14.99</td>\n",
       "      <td>Wong</td>\n",
       "      <td>[Libros y Librería, Libros, Libros para Colore...</td>\n",
       "    </tr>\n",
       "    <tr>\n",
       "      <th>15158</th>\n",
       "      <td>Botella Play Pc 1.4 Lt Extraíble Blue</td>\n",
       "      <td>https://www.wong.pe/botella-play-pc-1-4-lt-ext...</td>\n",
       "      <td>Wong</td>\n",
       "      <td>34.99</td>\n",
       "      <td>Wong</td>\n",
       "      <td>[Hogar y Bazar, Cocina, Tomatodos]</td>\n",
       "    </tr>\n",
       "    <tr>\n",
       "      <th>6358</th>\n",
       "      <td>Collar Minnie Ribbon Pink</td>\n",
       "      <td>https://www.wong.pe/collar-minnie-ribbon-pink-...</td>\n",
       "      <td>Wong</td>\n",
       "      <td>24.90</td>\n",
       "      <td>Wong</td>\n",
       "      <td>[Mascotas, Para Perros, Artículos de Transporte]</td>\n",
       "    </tr>\n",
       "    <tr>\n",
       "      <th>13818</th>\n",
       "      <td>Silla Atlante Decohome Verde</td>\n",
       "      <td>https://www.wong.pe/silla-atlante-decohome-ver...</td>\n",
       "      <td>Wong</td>\n",
       "      <td>713.82</td>\n",
       "      <td>Wong</td>\n",
       "      <td>[Hogar y Bazar, Muebles, Sillas y Butacas]</td>\n",
       "    </tr>\n",
       "  </tbody>\n",
       "</table>\n",
       "</div>"
      ]
     },
     "execution_count": 2,
     "metadata": {},
     "output_type": "execute_result"
    }
   ],
   "execution_count": 2
  },
  {
   "metadata": {
    "ExecuteTime": {
     "end_time": "2024-12-12T18:09:51.239437Z",
     "start_time": "2024-12-12T15:11:03.942713Z"
    }
   },
   "cell_type": "code",
   "source": [
    "# Función para obtener embeddings\n",
    "def get_embedding(text, model=\"text-embedding-ada-002\"):\n",
    "    text = text.replace(\"\\n\", \" \")\n",
    "    response = gpt_client.embeddings.create(input = [text], model=model).data[0].embedding\n",
    "    return response\n",
    "\n",
    "# Generar embeddings y agregarlos como una nueva columna\n",
    "data[\"embedding\"] = data.apply(\n",
    "    lambda row: get_embedding(\n",
    "        f\"Producto: {row['product_name']}. Descripción: {row['descripcion_producto']}. Categorías: {' ,'.join(row['categories'])}\"\n",
    "    ), \n",
    "    axis=1\n",
    ")"
   ],
   "id": "dfbc118cdb41d99f",
   "outputs": [],
   "execution_count": 3
  },
  {
   "metadata": {
    "ExecuteTime": {
     "end_time": "2024-12-12T18:20:15.664510Z",
     "start_time": "2024-12-12T18:20:11.915961Z"
    }
   },
   "cell_type": "code",
   "source": [
    "data['categories_txt'] = data['categories'].apply(lambda x: ', '.join(ast.literal_eval(x) if isinstance(x, str) else x))\n",
    "\n",
    "# Guarda los embeddings para uso posterior\n",
    "data.to_parquet(\"productos_con_embeddings.parquet\")\n",
    "# data.to_parquet(\"wong_con_embeddings.parquet\")"
   ],
   "id": "24b5a375d3842fa5",
   "outputs": [],
   "execution_count": 4
  }
 ],
 "metadata": {
  "kernelspec": {
   "display_name": "Python 3",
   "language": "python",
   "name": "python3"
  },
  "language_info": {
   "codemirror_mode": {
    "name": "ipython",
    "version": 2
   },
   "file_extension": ".py",
   "mimetype": "text/x-python",
   "name": "python",
   "nbconvert_exporter": "python",
   "pygments_lexer": "ipython2",
   "version": "2.7.6"
  }
 },
 "nbformat": 4,
 "nbformat_minor": 5
}
