{
 "cells": [
  {
   "cell_type": "code",
   "id": "initial_id",
   "metadata": {
    "collapsed": true,
    "ExecuteTime": {
     "end_time": "2024-11-10T06:06:49.625225Z",
     "start_time": "2024-11-10T06:06:49.272383Z"
    }
   },
   "source": [
    "import pandas as pd\n",
    "import numpy as np"
   ],
   "outputs": [],
   "execution_count": 1
  },
  {
   "metadata": {
    "ExecuteTime": {
     "end_time": "2024-11-10T06:06:49.705786Z",
     "start_time": "2024-11-10T06:06:49.630365Z"
    }
   },
   "cell_type": "code",
   "source": [
    "# Leer archivos finales de supermercados\n",
    "plazavea = pd.read_parquet('../supermercados/plazavea/plazavea.parquet')\n",
    "# metro = pd.read_parquet('../supermercados/metro/metro.parquet')\n",
    "# wong = pd.read_parquet('../supermercados/wong/wong.parquet')\n",
    "# vivanda = pd.read_parquet('../supermercados/vivanda/vivanda.parquet')"
   ],
   "id": "e1a831823bc55073",
   "outputs": [],
   "execution_count": 2
  },
  {
   "metadata": {
    "ExecuteTime": {
     "end_time": "2024-11-10T06:06:49.838390Z",
     "start_time": "2024-11-10T06:06:49.836332Z"
    }
   },
   "cell_type": "code",
   "source": [
    "# Provisional\n",
    "df = plazavea"
   ],
   "id": "c5a6c19059701214",
   "outputs": [],
   "execution_count": 3
  },
  {
   "metadata": {
    "ExecuteTime": {
     "end_time": "2024-11-10T06:06:49.884989Z",
     "start_time": "2024-11-10T06:06:49.882117Z"
    }
   },
   "cell_type": "code",
   "source": [
    "# Concatenar todos los dataframes en df\n",
    "# df = pd.concat([plazavea, metro, wong, vivanda], ignore_index=True)"
   ],
   "id": "f645e79ffdbe8a47",
   "outputs": [],
   "execution_count": 4
  },
  {
   "metadata": {
    "ExecuteTime": {
     "end_time": "2024-11-10T06:06:49.939946Z",
     "start_time": "2024-11-10T06:06:49.929097Z"
    }
   },
   "cell_type": "code",
   "source": "df.sample(n=3)",
   "id": "265f1b1ddedbd634",
   "outputs": [
    {
     "data": {
      "text/plain": [
       "                                            product_name  \\\n",
       "777    Combo Supreme - Supreme Isolate 6.6 Libras Vai...   \n",
       "39318            Accesorio para Manguera de Alta Presión   \n",
       "7628     Arena para Gatos, Roedores y Aves Klin Kat 20kg   \n",
       "\n",
       "                                                    link descripcion_producto  \\\n",
       "777    https://www.plazavea.com.pe/combo-supreme-supr...             plazaVea   \n",
       "39318  https://www.plazavea.com.pe/accesorio-para-man...             plazaVea   \n",
       "7628   https://www.plazavea.com.pe/arena-para-gatos-r...             plazaVea   \n",
       "\n",
       "       price    source                                         categories  \n",
       "777    529.9  plazaVea  [Cuidado Personal y Salud, Vitaminas y Nutrici...  \n",
       "39318   84.5  plazaVea  [Automotriz, Accesorios para Auto, Seguridad V...  \n",
       "7628   112.9  plazaVea  [Mascotas, Salud e higiene para gatos, Arena p...  "
      ],
      "text/html": [
       "<div>\n",
       "<style scoped>\n",
       "    .dataframe tbody tr th:only-of-type {\n",
       "        vertical-align: middle;\n",
       "    }\n",
       "\n",
       "    .dataframe tbody tr th {\n",
       "        vertical-align: top;\n",
       "    }\n",
       "\n",
       "    .dataframe thead th {\n",
       "        text-align: right;\n",
       "    }\n",
       "</style>\n",
       "<table border=\"1\" class=\"dataframe\">\n",
       "  <thead>\n",
       "    <tr style=\"text-align: right;\">\n",
       "      <th></th>\n",
       "      <th>product_name</th>\n",
       "      <th>link</th>\n",
       "      <th>descripcion_producto</th>\n",
       "      <th>price</th>\n",
       "      <th>source</th>\n",
       "      <th>categories</th>\n",
       "    </tr>\n",
       "  </thead>\n",
       "  <tbody>\n",
       "    <tr>\n",
       "      <th>777</th>\n",
       "      <td>Combo Supreme - Supreme Isolate 6.6 Libras Vai...</td>\n",
       "      <td>https://www.plazavea.com.pe/combo-supreme-supr...</td>\n",
       "      <td>plazaVea</td>\n",
       "      <td>529.9</td>\n",
       "      <td>plazaVea</td>\n",
       "      <td>[Cuidado Personal y Salud, Vitaminas y Nutrici...</td>\n",
       "    </tr>\n",
       "    <tr>\n",
       "      <th>39318</th>\n",
       "      <td>Accesorio para Manguera de Alta Presión</td>\n",
       "      <td>https://www.plazavea.com.pe/accesorio-para-man...</td>\n",
       "      <td>plazaVea</td>\n",
       "      <td>84.5</td>\n",
       "      <td>plazaVea</td>\n",
       "      <td>[Automotriz, Accesorios para Auto, Seguridad V...</td>\n",
       "    </tr>\n",
       "    <tr>\n",
       "      <th>7628</th>\n",
       "      <td>Arena para Gatos, Roedores y Aves Klin Kat 20kg</td>\n",
       "      <td>https://www.plazavea.com.pe/arena-para-gatos-r...</td>\n",
       "      <td>plazaVea</td>\n",
       "      <td>112.9</td>\n",
       "      <td>plazaVea</td>\n",
       "      <td>[Mascotas, Salud e higiene para gatos, Arena p...</td>\n",
       "    </tr>\n",
       "  </tbody>\n",
       "</table>\n",
       "</div>"
      ]
     },
     "execution_count": 5,
     "metadata": {},
     "output_type": "execute_result"
    }
   ],
   "execution_count": 5
  },
  {
   "metadata": {
    "ExecuteTime": {
     "end_time": "2024-11-10T06:06:50.014410Z",
     "start_time": "2024-11-10T06:06:50.010662Z"
    }
   },
   "cell_type": "code",
   "source": "df.columns",
   "id": "e92e5443154ca2e2",
   "outputs": [
    {
     "data": {
      "text/plain": [
       "Index(['product_name', 'link', 'descripcion_producto', 'price', 'source',\n",
       "       'categories'],\n",
       "      dtype='object')"
      ]
     },
     "execution_count": 6,
     "metadata": {},
     "output_type": "execute_result"
    }
   ],
   "execution_count": 6
  },
  {
   "metadata": {
    "ExecuteTime": {
     "end_time": "2024-11-10T06:06:50.173360Z",
     "start_time": "2024-11-10T06:06:50.118164Z"
    }
   },
   "cell_type": "code",
   "source": [
    "df['categories'] = df['categories'].apply(\n",
    "    lambda x: ', '.join(x) if isinstance(x, (list, np.ndarray)) else str(x)\n",
    ").fillna(\"Sin categoría\")"
   ],
   "id": "fbf679dc7e066bbf",
   "outputs": [],
   "execution_count": 7
  },
  {
   "metadata": {},
   "cell_type": "markdown",
   "source": "# Utilizamos ChromaDB y Embeddings",
   "id": "d43965439dbd57b3"
  },
  {
   "metadata": {
    "ExecuteTime": {
     "end_time": "2024-11-10T06:06:51.612126Z",
     "start_time": "2024-11-10T06:06:50.225121Z"
    }
   },
   "cell_type": "code",
   "source": "!pip install chromadb sentence-transformers --quiet",
   "id": "2ef3eea3dae42a8c",
   "outputs": [],
   "execution_count": 8
  },
  {
   "metadata": {
    "ExecuteTime": {
     "end_time": "2024-11-10T06:06:52.877451Z",
     "start_time": "2024-11-10T06:06:51.617879Z"
    }
   },
   "cell_type": "code",
   "source": "!pip install --upgrade jupyter ipywidgets --quiet",
   "id": "6da4caa98d660b87",
   "outputs": [],
   "execution_count": 9
  },
  {
   "metadata": {
    "ExecuteTime": {
     "end_time": "2024-11-10T06:06:53.769402Z",
     "start_time": "2024-11-10T06:06:52.889783Z"
    }
   },
   "cell_type": "code",
   "source": "!pip install tqdm --quiet",
   "id": "2ed9ca120065b8b0",
   "outputs": [],
   "execution_count": 10
  },
  {
   "metadata": {
    "ExecuteTime": {
     "end_time": "2024-11-10T06:06:53.786288Z",
     "start_time": "2024-11-10T06:06:53.784304Z"
    }
   },
   "cell_type": "code",
   "source": "# !jupyter nbextension enable --py widgetsnbextension",
   "id": "b8eefb259f835176",
   "outputs": [],
   "execution_count": 11
  },
  {
   "metadata": {
    "ExecuteTime": {
     "end_time": "2024-11-10T06:06:57.017926Z",
     "start_time": "2024-11-10T06:06:53.829521Z"
    }
   },
   "cell_type": "code",
   "source": [
    "from chromadb.config import Settings\n",
    "from chromadb import Client\n",
    "from sentence_transformers import SentenceTransformer\n",
    "from tqdm.autonotebook import tqdm, trange"
   ],
   "id": "c6b3dfe5f87c96d3",
   "outputs": [
    {
     "name": "stderr",
     "output_type": "stream",
     "text": [
      "/home/luishuacho/python-envs/.env-3.11/lib/python3.11/site-packages/sentence_transformers/cross_encoder/CrossEncoder.py:13: TqdmExperimentalWarning: Using `tqdm.autonotebook.tqdm` in notebook mode. Use `tqdm.tqdm` instead to force console mode (e.g. in jupyter console)\n",
      "  from tqdm.autonotebook import tqdm, trange\n"
     ]
    }
   ],
   "execution_count": 12
  },
  {
   "metadata": {
    "ExecuteTime": {
     "end_time": "2024-11-10T06:12:37.966114Z",
     "start_time": "2024-11-10T06:06:57.031367Z"
    }
   },
   "cell_type": "code",
   "source": [
    "from chromadb import PersistentClient\n",
    "from sentence_transformers import SentenceTransformer\n",
    "\n",
    "# Configuración para guardar ChromaDB de forma permanente\n",
    "client = PersistentClient(path=\"./chroma_db\")  # Carpeta donde se guardará la base de datos\n",
    "\n",
    "# Crear una colección\n",
    "collection = client.get_or_create_collection(name=\"product_embeddings\")\n",
    "\n",
    "# Cargar el modelo de embeddings\n",
    "embedding_model = SentenceTransformer('paraphrase-MiniLM-L6-v2')  # Puedes elegir otro modelo si lo prefieras\n",
    "\n",
    "# Inicializar variables para el contador\n",
    "batch_size = 100\n",
    "total_records = len(df)\n",
    "\n",
    "# Iterar en bloques de 100 registros\n",
    "for i in range(0, total_records, batch_size):\n",
    "    batch = df.iloc[i:i+batch_size]  # Seleccionar un bloque de registros\n",
    "    \n",
    "    # Extraer y generar embeddings para product_name\n",
    "    product_names = batch['product_name'].astype(str).tolist()\n",
    "    product_name_embeddings = embedding_model.encode(product_names).tolist()\n",
    "    \n",
    "    # Extraer y generar embeddings para categories (listas convertidas a texto)\n",
    "    categories = batch['categories'].apply(\n",
    "        lambda x: ', '.join(x) if isinstance(x, (list, np.ndarray)) else str(x)\n",
    "    ).tolist()\n",
    "    categories_embeddings = embedding_model.encode(categories).tolist()\n",
    "    \n",
    "    # Crear metadatos para el bloque actual\n",
    "    metadata = [\n",
    "        {\n",
    "            \"source\": row['source'],\n",
    "            \"link\": row['link'],\n",
    "            \"price\": row['price'],\n",
    "            \"categories\": ', '.join(row['categories']) if isinstance(row['categories'], (list, np.ndarray)) else str(row['categories'])\n",
    "        }\n",
    "        for _, row in batch.iterrows()\n",
    "    ]\n",
    "    \n",
    "    # Insertar datos del bloque en la colección\n",
    "    collection.add(\n",
    "        embeddings=categories_embeddings,  # Usar embeddings de categories para consultas primarias\n",
    "        metadatas=metadata,\n",
    "        documents=product_names,  # Guardar los nombres de los productos como documentos\n",
    "        ids=[str(idx) for idx in range(i, min(i+batch_size, total_records))]\n",
    "    )\n",
    "\n",
    "    # Imprimir progreso\n",
    "    # print(f\"{min(i+batch_size, total_records)} de {total_records} registros procesados.\")\n",
    "\n",
    "print(\"Embeddings y metadatos guardados en ChromaDB de forma permanente.\")\n"
   ],
   "id": "cd12a898f7fe34f8",
   "outputs": [
    {
     "data": {
      "text/plain": [
       "modules.json:   0%|          | 0.00/229 [00:00<?, ?B/s]"
      ],
      "application/vnd.jupyter.widget-view+json": {
       "version_major": 2,
       "version_minor": 0,
       "model_id": "180066b5d76d43b3a0663f0032574f46"
      }
     },
     "metadata": {},
     "output_type": "display_data"
    },
    {
     "data": {
      "text/plain": [
       "config_sentence_transformers.json:   0%|          | 0.00/122 [00:00<?, ?B/s]"
      ],
      "application/vnd.jupyter.widget-view+json": {
       "version_major": 2,
       "version_minor": 0,
       "model_id": "5504834f4e47430c855c0746a951ae54"
      }
     },
     "metadata": {},
     "output_type": "display_data"
    },
    {
     "data": {
      "text/plain": [
       "README.md:   0%|          | 0.00/3.73k [00:00<?, ?B/s]"
      ],
      "application/vnd.jupyter.widget-view+json": {
       "version_major": 2,
       "version_minor": 0,
       "model_id": "fca793a957dd4b429184d832ed17b085"
      }
     },
     "metadata": {},
     "output_type": "display_data"
    },
    {
     "data": {
      "text/plain": [
       "sentence_bert_config.json:   0%|          | 0.00/53.0 [00:00<?, ?B/s]"
      ],
      "application/vnd.jupyter.widget-view+json": {
       "version_major": 2,
       "version_minor": 0,
       "model_id": "ac00e12b9dfe4e90a717ed2a784eed1f"
      }
     },
     "metadata": {},
     "output_type": "display_data"
    },
    {
     "data": {
      "text/plain": [
       "config.json:   0%|          | 0.00/629 [00:00<?, ?B/s]"
      ],
      "application/vnd.jupyter.widget-view+json": {
       "version_major": 2,
       "version_minor": 0,
       "model_id": "322aeb2c3068425a9bf6b12d280910c8"
      }
     },
     "metadata": {},
     "output_type": "display_data"
    },
    {
     "data": {
      "text/plain": [
       "model.safetensors:   0%|          | 0.00/90.9M [00:00<?, ?B/s]"
      ],
      "application/vnd.jupyter.widget-view+json": {
       "version_major": 2,
       "version_minor": 0,
       "model_id": "6a82778c7e9c4b10aa8717f042c3bf5c"
      }
     },
     "metadata": {},
     "output_type": "display_data"
    },
    {
     "data": {
      "text/plain": [
       "tokenizer_config.json:   0%|          | 0.00/314 [00:00<?, ?B/s]"
      ],
      "application/vnd.jupyter.widget-view+json": {
       "version_major": 2,
       "version_minor": 0,
       "model_id": "ba61d9894a2b416382445f6a5e00f680"
      }
     },
     "metadata": {},
     "output_type": "display_data"
    },
    {
     "data": {
      "text/plain": [
       "vocab.txt:   0%|          | 0.00/232k [00:00<?, ?B/s]"
      ],
      "application/vnd.jupyter.widget-view+json": {
       "version_major": 2,
       "version_minor": 0,
       "model_id": "396ee5d8beea468ab2a8a36e6ba33e11"
      }
     },
     "metadata": {},
     "output_type": "display_data"
    },
    {
     "data": {
      "text/plain": [
       "tokenizer.json:   0%|          | 0.00/466k [00:00<?, ?B/s]"
      ],
      "application/vnd.jupyter.widget-view+json": {
       "version_major": 2,
       "version_minor": 0,
       "model_id": "ad59c0b469624a008a034b36f1355aea"
      }
     },
     "metadata": {},
     "output_type": "display_data"
    },
    {
     "data": {
      "text/plain": [
       "special_tokens_map.json:   0%|          | 0.00/112 [00:00<?, ?B/s]"
      ],
      "application/vnd.jupyter.widget-view+json": {
       "version_major": 2,
       "version_minor": 0,
       "model_id": "52b035b8d5464e90964dc3cbc85d7040"
      }
     },
     "metadata": {},
     "output_type": "display_data"
    },
    {
     "data": {
      "text/plain": [
       "1_Pooling/config.json:   0%|          | 0.00/190 [00:00<?, ?B/s]"
      ],
      "application/vnd.jupyter.widget-view+json": {
       "version_major": 2,
       "version_minor": 0,
       "model_id": "345abaca374644cfba50898cc33f13e0"
      }
     },
     "metadata": {},
     "output_type": "display_data"
    },
    {
     "name": "stdout",
     "output_type": "stream",
     "text": [
      "Embeddings y metadatos guardados en ChromaDB de forma permanente.\n"
     ]
    }
   ],
   "execution_count": 13
  },
  {
   "metadata": {
    "ExecuteTime": {
     "end_time": "2024-11-10T06:12:38.057524Z",
     "start_time": "2024-11-10T06:12:38.053203Z"
    }
   },
   "cell_type": "code",
   "source": [
    "# Listar todas las colecciones disponibles\n",
    "collections = client.list_collections()\n",
    "print([col.name for col in collections])"
   ],
   "id": "551300c88066a5c6",
   "outputs": [
    {
     "name": "stdout",
     "output_type": "stream",
     "text": [
      "['product_embeddings']\n"
     ]
    }
   ],
   "execution_count": 14
  },
  {
   "metadata": {
    "ExecuteTime": {
     "end_time": "2024-11-10T06:12:38.161493Z",
     "start_time": "2024-11-10T06:12:38.157073Z"
    }
   },
   "cell_type": "code",
   "source": [
    "# Cargar la colección específica\n",
    "collection = client.get_collection(name=\"product_embeddings\")"
   ],
   "id": "ed067f73bad2a517",
   "outputs": [],
   "execution_count": 15
  },
  {
   "metadata": {
    "ExecuteTime": {
     "end_time": "2024-11-10T06:12:38.209585Z",
     "start_time": "2024-11-10T06:12:38.204017Z"
    }
   },
   "cell_type": "code",
   "source": [
    "# Obtener datos por ID\n",
    "data_by_id = collection.get(ids=[\"0\", \"1\", \"2\"])  # IDs específicas\n",
    "print(data_by_id)"
   ],
   "id": "1d0ef221b156f6c8",
   "outputs": [
    {
     "name": "stdout",
     "output_type": "stream",
     "text": [
      "{'ids': ['0', '1', '2'], 'embeddings': None, 'documents': ['Agua Tónica BRITVIC Paquete 12un Lata 150ml', 'Agua Tónica BRTIVIC Low Calorie Lata 150ml Paquete 12un', 'Ginger Ale Beer BRITVIC Lata 150ml Paquete 12un'], 'uris': None, 'data': None, 'metadatas': [{'categories': 'Bebidas, Aguas, Agua Tónica', 'link': 'https://www.plazavea.com.pe/agua-tonica-britvic-paquete-12un-x-lata-150ml/p', 'price': 57.9, 'source': 'plazaVea'}, {'categories': 'Bebidas, Aguas, Agua Tónica', 'link': 'https://www.plazavea.com.pe/agua-tonica-brtivic-low-calorie-lata-150ml-paquete-12un/p', 'price': 57.9, 'source': 'plazaVea'}, {'categories': 'Bebidas, Gaseosas, Ginger Ale', 'link': 'https://www.plazavea.com.pe/ginger-ale-beer-britvic-lata-150ml-paquete-12un/p', 'price': 57.9, 'source': 'plazaVea'}], 'included': [<IncludeEnum.documents: 'documents'>, <IncludeEnum.metadatas: 'metadatas'>]}\n"
     ]
    }
   ],
   "execution_count": 16
  },
  {
   "metadata": {
    "ExecuteTime": {
     "end_time": "2024-11-10T06:12:38.317358Z",
     "start_time": "2024-11-10T06:12:38.312491Z"
    }
   },
   "cell_type": "code",
   "source": [
    "def search_products(query, precision=0.5, top_k=10):\n",
    "    \"\"\"\n",
    "    Realiza una búsqueda en la base de datos ChromaDB por categorías y filtra por nombres de productos.\n",
    "    \n",
    "    Args:\n",
    "        query (str): Texto de consulta.\n",
    "        precision (float): Umbral de similitud (0.0 a 1.0) para los resultados relevantes.\n",
    "        top_k (int): Número máximo de resultados a devolver en la búsqueda inicial.\n",
    "\n",
    "    Returns:\n",
    "        list: Lista de resultados relevantes con ID, nombre del producto, metadatos, y distancia.\n",
    "    \"\"\"\n",
    "    # Generar embedding para la consulta\n",
    "    query_embedding = embedding_model.encode([query]).tolist()\n",
    "    \n",
    "    # Primera búsqueda: categorías\n",
    "    category_results = collection.query(\n",
    "        query_embeddings=query_embedding,\n",
    "        n_results=top_k,\n",
    "        include=['documents', 'metadatas', 'distances']\n",
    "    )\n",
    "    \n",
    "    # Filtrar resultados relevantes por precisión en categorías\n",
    "    filtered_results = []\n",
    "    for i, distance in enumerate(category_results['distances'][0]):\n",
    "        if distance <= precision:  # Solo considerar resultados dentro del umbral de precisión\n",
    "            filtered_results.append({\n",
    "                \"id\": category_results['ids'][0][i],\n",
    "                \"product_name\": category_results['documents'][0][i],\n",
    "                \"metadata\": category_results['metadatas'][0][i],\n",
    "                \"distance\": distance\n",
    "            })\n",
    "    \n",
    "    # Si no hay resultados relevantes por categoría, retornar vacío\n",
    "    if not filtered_results:\n",
    "        return []\n",
    "    \n",
    "    # Segunda búsqueda: filtrar por nombre del producto dentro de los resultados de categorías\n",
    "    refined_results = []\n",
    "    for result in filtered_results:\n",
    "        product_name = result[\"product_name\"]\n",
    "        product_name_embedding = embedding_model.encode([product_name]).tolist()\n",
    "        similarity = embedding_model.similarity(query_embedding, product_name_embedding)\n",
    "        if similarity >= precision:  # Filtrar por umbral de precisión\n",
    "            result[\"similarity\"] = similarity\n",
    "            refined_results.append(result)\n",
    "\n",
    "    return refined_results\n"
   ],
   "id": "985ff8316d40f2c2",
   "outputs": [],
   "execution_count": 17
  },
  {
   "metadata": {
    "ExecuteTime": {
     "end_time": "2024-11-10T06:12:38.386075Z",
     "start_time": "2024-11-10T06:12:38.363951Z"
    }
   },
   "cell_type": "code",
   "source": [
    "# Ejemplo de búsqueda\n",
    "query = \"aceite 5W30 lubricante\"\n",
    "precision = 0.8\n",
    "top_k = 10\n",
    "\n",
    "results = search_products(query, precision=precision, top_k=top_k)\n",
    "\n",
    "# Mostrar resultados\n",
    "for result in results:\n",
    "    print(result)\n"
   ],
   "id": "84c9ac1e4065b2da",
   "outputs": [],
   "execution_count": 18
  },
  {
   "metadata": {
    "ExecuteTime": {
     "end_time": "2024-11-10T06:12:38.417782Z",
     "start_time": "2024-11-10T06:12:38.415195Z"
    }
   },
   "cell_type": "code",
   "source": [
    "# # Crear un embedding para consulta\n",
    "# query_text = \"aceite para freir papas\"\n",
    "# query_embedding = embedding_model.encode([query_text]).tolist()\n",
    "# \n",
    "# # Buscar los registros más cercanos\n",
    "# results = collection.query(\n",
    "#     query_embeddings=query_embedding,\n",
    "#     n_results=5,  # Número de resultados más cercanos\n",
    "#     include=['embeddings', 'metadatas', 'documents', 'distances']\n",
    "# )\n",
    "# print(results)\n"
   ],
   "id": "ea00929d8b3e67c2",
   "outputs": [],
   "execution_count": 19
  }
 ],
 "metadata": {
  "kernelspec": {
   "display_name": "Python 3",
   "language": "python",
   "name": "python3"
  },
  "language_info": {
   "codemirror_mode": {
    "name": "ipython",
    "version": 2
   },
   "file_extension": ".py",
   "mimetype": "text/x-python",
   "name": "python",
   "nbconvert_exporter": "python",
   "pygments_lexer": "ipython2",
   "version": "2.7.6"
  }
 },
 "nbformat": 4,
 "nbformat_minor": 5
}
