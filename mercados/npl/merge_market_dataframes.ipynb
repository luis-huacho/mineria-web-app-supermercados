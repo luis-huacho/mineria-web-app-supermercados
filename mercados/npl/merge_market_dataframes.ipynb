{
 "cells": [
  {
   "cell_type": "code",
   "id": "initial_id",
   "metadata": {
    "collapsed": true,
    "ExecuteTime": {
     "end_time": "2024-12-11T16:32:50.128005Z",
     "start_time": "2024-12-11T16:32:49.748424Z"
    }
   },
   "source": [
    "import pandas as pd\n",
    "import numpy as np"
   ],
   "outputs": [],
   "execution_count": 1
  },
  {
   "metadata": {
    "ExecuteTime": {
     "end_time": "2024-12-11T16:32:52.043035Z",
     "start_time": "2024-12-11T16:32:51.861443Z"
    }
   },
   "cell_type": "code",
   "source": [
    "# Leer archivos finales de supermercados\n",
    "plazavea = pd.read_parquet('../supermercados/plazavea/plazavea.parquet')\n",
    "metro = pd.read_parquet('../supermercados/metro/metro.parquet')\n",
    "wong = pd.read_parquet('../supermercados/wong/wong.parquet')\n",
    "vivanda = pd.read_parquet('../supermercados/vivanda/vivanda.parquet')"
   ],
   "id": "e1a831823bc55073",
   "outputs": [],
   "execution_count": 2
  },
  {
   "metadata": {},
   "cell_type": "code",
   "source": [
    "# Provisional\n",
    "# df = vivanda\n",
    "# df.sample(n=3)"
   ],
   "id": "c5a6c19059701214",
   "outputs": [],
   "execution_count": null
  },
  {
   "metadata": {
    "ExecuteTime": {
     "end_time": "2024-12-11T16:32:54.933915Z",
     "start_time": "2024-12-11T16:32:54.919380Z"
    }
   },
   "cell_type": "code",
   "source": [
    "# Concatenar todos los dataframes en df\n",
    "df = pd.concat([plazavea, metro, wong, vivanda], ignore_index=True)"
   ],
   "id": "f645e79ffdbe8a47",
   "outputs": [],
   "execution_count": 3
  },
  {
   "metadata": {
    "ExecuteTime": {
     "end_time": "2024-12-11T16:33:28.630953Z",
     "start_time": "2024-12-11T16:33:28.619029Z"
    }
   },
   "cell_type": "code",
   "source": "df.sample(n=10)",
   "id": "265f1b1ddedbd634",
   "outputs": [
    {
     "data": {
      "text/plain": [
       "                                             product_name  \\\n",
       "13205   Licuadora Oster® ActiveSense  con Blend-N-Go B...   \n",
       "105822         Agenda Arti Creativo Oslo Formato B5 Negro   \n",
       "6420    Comida para Gatos Adultos Esterilizados Braver...   \n",
       "108838    Queso Maduro Cheddar Rallado Crystal Farms 226g   \n",
       "76900   Ilko Sartén Antiadherente 28 cm Silver Industrial   \n",
       "3757    Escoba para el Hogar Resistente de Verde Y+Pap...   \n",
       "8242    Apoquel Tratamiento de la Dermatitis Alergica ...   \n",
       "55880                      Botines Azaleia LIDE-658 Negro   \n",
       "98676                  Molinillo La Hacienda Sal Pimienta   \n",
       "81420                Pizza Hawaiana Wong Familiar (30 cm)   \n",
       "\n",
       "                                                     link  \\\n",
       "13205   https://www.plazavea.com.pe/licuadora-oster-ac...   \n",
       "105822  https://www.wong.pe/agenda-arti-creativo-oslo-...   \n",
       "6420    https://www.plazavea.com.pe/comida-para-gatos-...   \n",
       "108838  https://www.wong.pe/queso-maduro-cheddar-ralla...   \n",
       "76900   https://www.metro.pe/ilko-sarten-antiadherente...   \n",
       "3757    https://www.plazavea.com.pe/escoba-para-el-hog...   \n",
       "8242    https://www.plazavea.com.pe/apoquel-tratamient...   \n",
       "55880   https://www.plazavea.com.pe/botines-azaleia-li...   \n",
       "98676   https://www.wong.pe/molinillo-la-hacienda-sal-...   \n",
       "81420   https://www.metro.pe/pizza-hawaiana-wong-famil...   \n",
       "\n",
       "       descripcion_producto   price    source  \\\n",
       "13205              plazaVea  975.00  plazaVea   \n",
       "105822                 Wong   31.00      Wong   \n",
       "6420               plazaVea  269.90  plazaVea   \n",
       "108838                 Wong   26.80      Wong   \n",
       "76900                 Metro   89.99     Metro   \n",
       "3757               plazaVea   53.90  plazaVea   \n",
       "8242               plazaVea  117.80  plazaVea   \n",
       "55880              plazaVea    0.00  plazaVea   \n",
       "98676                  Wong   64.39      Wong   \n",
       "81420                 Metro   21.50     Metro   \n",
       "\n",
       "                                               categories  \n",
       "13205   [Electrohogar, Electrodomésticos de Cocina, Li...  \n",
       "105822                  [Libros y Librería, Agendas 2024]  \n",
       "6420    [Mascotas, Comida para gatos, Croquetas y comi...  \n",
       "108838         [Lácteos, La Quesería, Quesos Semiblandos]  \n",
       "76900            [Hogar y Bazar, Cocina, Sartenes y Woks]  \n",
       "3757    [Limpieza, Accesorios de Limpieza, Escobas y R...  \n",
       "8242    [Mascotas, Salud e higiene para perros, Más pr...  \n",
       "55880     [Zapatos, Zapatos Mujer, Botas y Botines Mujer]  \n",
       "98676   [Hogar y Bazar, Menaje de Mesa, Accesorios de ...  \n",
       "81420             [Comidas y Rostizados, Comidas, Pizzas]  "
      ],
      "text/html": [
       "<div>\n",
       "<style scoped>\n",
       "    .dataframe tbody tr th:only-of-type {\n",
       "        vertical-align: middle;\n",
       "    }\n",
       "\n",
       "    .dataframe tbody tr th {\n",
       "        vertical-align: top;\n",
       "    }\n",
       "\n",
       "    .dataframe thead th {\n",
       "        text-align: right;\n",
       "    }\n",
       "</style>\n",
       "<table border=\"1\" class=\"dataframe\">\n",
       "  <thead>\n",
       "    <tr style=\"text-align: right;\">\n",
       "      <th></th>\n",
       "      <th>product_name</th>\n",
       "      <th>link</th>\n",
       "      <th>descripcion_producto</th>\n",
       "      <th>price</th>\n",
       "      <th>source</th>\n",
       "      <th>categories</th>\n",
       "    </tr>\n",
       "  </thead>\n",
       "  <tbody>\n",
       "    <tr>\n",
       "      <th>13205</th>\n",
       "      <td>Licuadora Oster® ActiveSense  con Blend-N-Go B...</td>\n",
       "      <td>https://www.plazavea.com.pe/licuadora-oster-ac...</td>\n",
       "      <td>plazaVea</td>\n",
       "      <td>975.00</td>\n",
       "      <td>plazaVea</td>\n",
       "      <td>[Electrohogar, Electrodomésticos de Cocina, Li...</td>\n",
       "    </tr>\n",
       "    <tr>\n",
       "      <th>105822</th>\n",
       "      <td>Agenda Arti Creativo Oslo Formato B5 Negro</td>\n",
       "      <td>https://www.wong.pe/agenda-arti-creativo-oslo-...</td>\n",
       "      <td>Wong</td>\n",
       "      <td>31.00</td>\n",
       "      <td>Wong</td>\n",
       "      <td>[Libros y Librería, Agendas 2024]</td>\n",
       "    </tr>\n",
       "    <tr>\n",
       "      <th>6420</th>\n",
       "      <td>Comida para Gatos Adultos Esterilizados Braver...</td>\n",
       "      <td>https://www.plazavea.com.pe/comida-para-gatos-...</td>\n",
       "      <td>plazaVea</td>\n",
       "      <td>269.90</td>\n",
       "      <td>plazaVea</td>\n",
       "      <td>[Mascotas, Comida para gatos, Croquetas y comi...</td>\n",
       "    </tr>\n",
       "    <tr>\n",
       "      <th>108838</th>\n",
       "      <td>Queso Maduro Cheddar Rallado Crystal Farms 226g</td>\n",
       "      <td>https://www.wong.pe/queso-maduro-cheddar-ralla...</td>\n",
       "      <td>Wong</td>\n",
       "      <td>26.80</td>\n",
       "      <td>Wong</td>\n",
       "      <td>[Lácteos, La Quesería, Quesos Semiblandos]</td>\n",
       "    </tr>\n",
       "    <tr>\n",
       "      <th>76900</th>\n",
       "      <td>Ilko Sartén Antiadherente 28 cm Silver Industrial</td>\n",
       "      <td>https://www.metro.pe/ilko-sarten-antiadherente...</td>\n",
       "      <td>Metro</td>\n",
       "      <td>89.99</td>\n",
       "      <td>Metro</td>\n",
       "      <td>[Hogar y Bazar, Cocina, Sartenes y Woks]</td>\n",
       "    </tr>\n",
       "    <tr>\n",
       "      <th>3757</th>\n",
       "      <td>Escoba para el Hogar Resistente de Verde Y+Pap...</td>\n",
       "      <td>https://www.plazavea.com.pe/escoba-para-el-hog...</td>\n",
       "      <td>plazaVea</td>\n",
       "      <td>53.90</td>\n",
       "      <td>plazaVea</td>\n",
       "      <td>[Limpieza, Accesorios de Limpieza, Escobas y R...</td>\n",
       "    </tr>\n",
       "    <tr>\n",
       "      <th>8242</th>\n",
       "      <td>Apoquel Tratamiento de la Dermatitis Alergica ...</td>\n",
       "      <td>https://www.plazavea.com.pe/apoquel-tratamient...</td>\n",
       "      <td>plazaVea</td>\n",
       "      <td>117.80</td>\n",
       "      <td>plazaVea</td>\n",
       "      <td>[Mascotas, Salud e higiene para perros, Más pr...</td>\n",
       "    </tr>\n",
       "    <tr>\n",
       "      <th>55880</th>\n",
       "      <td>Botines Azaleia LIDE-658 Negro</td>\n",
       "      <td>https://www.plazavea.com.pe/botines-azaleia-li...</td>\n",
       "      <td>plazaVea</td>\n",
       "      <td>0.00</td>\n",
       "      <td>plazaVea</td>\n",
       "      <td>[Zapatos, Zapatos Mujer, Botas y Botines Mujer]</td>\n",
       "    </tr>\n",
       "    <tr>\n",
       "      <th>98676</th>\n",
       "      <td>Molinillo La Hacienda Sal Pimienta</td>\n",
       "      <td>https://www.wong.pe/molinillo-la-hacienda-sal-...</td>\n",
       "      <td>Wong</td>\n",
       "      <td>64.39</td>\n",
       "      <td>Wong</td>\n",
       "      <td>[Hogar y Bazar, Menaje de Mesa, Accesorios de ...</td>\n",
       "    </tr>\n",
       "    <tr>\n",
       "      <th>81420</th>\n",
       "      <td>Pizza Hawaiana Wong Familiar (30 cm)</td>\n",
       "      <td>https://www.metro.pe/pizza-hawaiana-wong-famil...</td>\n",
       "      <td>Metro</td>\n",
       "      <td>21.50</td>\n",
       "      <td>Metro</td>\n",
       "      <td>[Comidas y Rostizados, Comidas, Pizzas]</td>\n",
       "    </tr>\n",
       "  </tbody>\n",
       "</table>\n",
       "</div>"
      ]
     },
     "execution_count": 8,
     "metadata": {},
     "output_type": "execute_result"
    }
   ],
   "execution_count": 8
  },
  {
   "metadata": {
    "ExecuteTime": {
     "end_time": "2024-12-11T16:34:06.165329Z",
     "start_time": "2024-12-11T16:34:06.161767Z"
    }
   },
   "cell_type": "code",
   "source": "df.shape",
   "id": "e92e5443154ca2e2",
   "outputs": [
    {
     "data": {
      "text/plain": [
       "(126551, 6)"
      ]
     },
     "execution_count": 9,
     "metadata": {},
     "output_type": "execute_result"
    }
   ],
   "execution_count": 9
  },
  {
   "metadata": {
    "ExecuteTime": {
     "end_time": "2024-12-11T16:47:17.692682Z",
     "start_time": "2024-12-11T16:47:17.439527Z"
    }
   },
   "cell_type": "code",
   "source": "df.to_parquet('productos_supermercados.parquet')",
   "id": "5b5a0f10fc691a19",
   "outputs": [],
   "execution_count": 10
  },
  {
   "metadata": {},
   "cell_type": "code",
   "source": [
    "df['categories'] = df['categories'].apply(\n",
    "    lambda x: ', '.join(x) if isinstance(x, (list, np.ndarray)) else str(x)\n",
    ").fillna(\"Sin categoría\")"
   ],
   "id": "fbf679dc7e066bbf",
   "outputs": [],
   "execution_count": null
  },
  {
   "metadata": {},
   "cell_type": "markdown",
   "source": "# Utilizamos ChromaDB y Embeddings",
   "id": "d43965439dbd57b3"
  },
  {
   "metadata": {},
   "cell_type": "code",
   "source": "!pip install chromadb sentence-transformers --quiet",
   "id": "2ef3eea3dae42a8c",
   "outputs": [],
   "execution_count": null
  },
  {
   "metadata": {},
   "cell_type": "code",
   "source": "!pip install --upgrade jupyter ipywidgets --quiet",
   "id": "6da4caa98d660b87",
   "outputs": [],
   "execution_count": null
  },
  {
   "metadata": {},
   "cell_type": "code",
   "source": "!pip install tqdm --quiet",
   "id": "2ed9ca120065b8b0",
   "outputs": [],
   "execution_count": null
  },
  {
   "metadata": {},
   "cell_type": "code",
   "source": "# !jupyter nbextension enable --py widgetsnbextension",
   "id": "b8eefb259f835176",
   "outputs": [],
   "execution_count": null
  },
  {
   "metadata": {},
   "cell_type": "code",
   "source": [
    "from chromadb.config import Settings\n",
    "from chromadb import Client\n",
    "from sentence_transformers import SentenceTransformer\n",
    "from tqdm.autonotebook import tqdm, trange"
   ],
   "id": "c6b3dfe5f87c96d3",
   "outputs": [],
   "execution_count": null
  },
  {
   "metadata": {},
   "cell_type": "code",
   "source": [
    "from chromadb import PersistentClient\n",
    "from sentence_transformers import SentenceTransformer\n",
    "\n",
    "# Configuración para guardar ChromaDB de forma permanente\n",
    "client = PersistentClient(path=\"./chroma_db\")  # Carpeta donde se guardará la base de datos\n",
    "\n",
    "# Crear una colección\n",
    "collection = client.get_or_create_collection(name=\"product_embeddings\")\n",
    "\n",
    "# Cargar el modelo de embeddings\n",
    "embedding_model = SentenceTransformer('paraphrase-MiniLM-L6-v2')\n",
    "\n",
    "# Inicializar variables para el contador\n",
    "batch_size = 100\n",
    "total_records = len(df)\n",
    "\n",
    "# Iterar en bloques de 100 registros\n",
    "for i in range(0, total_records, batch_size):\n",
    "    batch = df.iloc[i:i+batch_size]  # Seleccionar un bloque de registros\n",
    "    \n",
    "    # Extraer y generar embeddings para product_name\n",
    "    product_names = batch['product_name'].astype(str).tolist()\n",
    "    product_name_embeddings = embedding_model.encode(product_names).tolist()\n",
    "    \n",
    "    # Extraer y generar embeddings para categories (listas convertidas a texto)\n",
    "    categories = batch['categories'].apply(\n",
    "        lambda x: ', '.join(x) if isinstance(x, (list, np.ndarray)) else str(x)\n",
    "    ).tolist()\n",
    "    categories_embeddings = embedding_model.encode(categories).tolist()\n",
    "    \n",
    "    # Crear metadatos para el bloque actual\n",
    "    metadata = [\n",
    "        {\n",
    "            \"source\": row['source'],\n",
    "            \"link\": row['link'],\n",
    "            \"price\": row['price'],\n",
    "            \"categories\": ', '.join(row['categories']) if isinstance(row['categories'], (list, np.ndarray)) else str(row['categories'])\n",
    "        }\n",
    "        for _, row in batch.iterrows()\n",
    "    ]\n",
    "    \n",
    "    # Insertar datos del bloque en la colección\n",
    "    collection.add(\n",
    "        embeddings=categories_embeddings,  # Usar embeddings de categories para consultas primarias\n",
    "        metadatas=metadata,\n",
    "        documents=product_names,  # Guardar los nombres de los productos como documentos\n",
    "        ids=[str(idx) for idx in range(i, min(i+batch_size, total_records))]\n",
    "    )\n",
    "\n",
    "    # Imprimir progreso\n",
    "    # print(f\"{min(i+batch_size, total_records)} de {total_records} registros procesados.\")\n",
    "\n",
    "print(\"Embeddings y metadatos guardados en ChromaDB de forma permanente.\")\n"
   ],
   "id": "cd12a898f7fe34f8",
   "outputs": [],
   "execution_count": null
  },
  {
   "metadata": {},
   "cell_type": "code",
   "source": [
    "# Listar todas las colecciones disponibles\n",
    "collections = client.list_collections()\n",
    "print([col.name for col in collections])"
   ],
   "id": "551300c88066a5c6",
   "outputs": [],
   "execution_count": null
  },
  {
   "metadata": {},
   "cell_type": "code",
   "source": [
    "# Cargar la colección específica\n",
    "collection = client.get_collection(name=\"product_embeddings\")"
   ],
   "id": "ed067f73bad2a517",
   "outputs": [],
   "execution_count": null
  },
  {
   "metadata": {},
   "cell_type": "code",
   "source": [
    "# Obtener datos por ID\n",
    "data_by_id = collection.get(ids=[\"0\", \"1\", \"2\"])  # IDs específicas\n",
    "print(data_by_id)"
   ],
   "id": "1d0ef221b156f6c8",
   "outputs": [],
   "execution_count": null
  },
  {
   "metadata": {},
   "cell_type": "code",
   "source": [
    "def search_products(query, precision=0.5, top_k=10):\n",
    "    \"\"\"\n",
    "    Realiza una búsqueda en la base de datos ChromaDB por categorías y filtra por nombres de productos.\n",
    "    \n",
    "    Args:\n",
    "        query (str): Texto de consulta.\n",
    "        precision (float): Umbral de similitud (0.0 a 1.0) para los resultados relevantes.\n",
    "        top_k (int): Número máximo de resultados a devolver en la búsqueda inicial.\n",
    "\n",
    "    Returns:\n",
    "        list: Lista de resultados relevantes con ID, nombre del producto, metadatos, y distancia.\n",
    "    \"\"\"\n",
    "    # Generar embedding para la consulta\n",
    "    query_embedding = embedding_model.encode([query]).tolist()\n",
    "    \n",
    "    # Primera búsqueda: categorías\n",
    "    category_results = collection.query(\n",
    "        query_embeddings=query_embedding,\n",
    "        n_results=top_k,\n",
    "        include=['documents', 'metadatas', 'distances']\n",
    "    )\n",
    "    \n",
    "    # Filtrar resultados relevantes por precisión en categorías\n",
    "    filtered_results = []\n",
    "    for i, distance in enumerate(category_results['distances'][0]):\n",
    "        if distance <= precision:  # Solo considerar resultados dentro del umbral de precisión\n",
    "            filtered_results.append({\n",
    "                \"id\": category_results['ids'][0][i],\n",
    "                \"product_name\": category_results['documents'][0][i],\n",
    "                \"metadata\": category_results['metadatas'][0][i],\n",
    "                \"distance\": distance\n",
    "            })\n",
    "    \n",
    "    # Si no hay resultados relevantes por categoría, retornar vacío\n",
    "    if not filtered_results:\n",
    "        return []\n",
    "    \n",
    "    # Segunda búsqueda: filtrar por nombre del producto dentro de los resultados de categorías\n",
    "    refined_results = []\n",
    "    for result in filtered_results:\n",
    "        product_name = result[\"product_name\"]\n",
    "        product_name_embedding = embedding_model.encode([product_name]).tolist()\n",
    "        similarity = embedding_model.similarity(query_embedding, product_name_embedding)\n",
    "        if similarity >= precision:  # Filtrar por umbral de precisión\n",
    "            result[\"similarity\"] = similarity\n",
    "            refined_results.append(result)\n",
    "\n",
    "    return refined_results\n"
   ],
   "id": "985ff8316d40f2c2",
   "outputs": [],
   "execution_count": null
  },
  {
   "metadata": {},
   "cell_type": "code",
   "source": [
    "# Ejemplo de búsqueda\n",
    "query = \"aceite 5W30 lubricante\"\n",
    "precision = 0.8\n",
    "top_k = 10\n",
    "\n",
    "results = search_products(query, precision=precision, top_k=top_k)\n",
    "\n",
    "# Mostrar resultados\n",
    "for result in results:\n",
    "    print(result)\n"
   ],
   "id": "84c9ac1e4065b2da",
   "outputs": [],
   "execution_count": null
  },
  {
   "metadata": {},
   "cell_type": "code",
   "source": [
    "# # Crear un embedding para consulta\n",
    "# query_text = \"aceite para freir papas\"\n",
    "# query_embedding = embedding_model.encode([query_text]).tolist()\n",
    "# \n",
    "# # Buscar los registros más cercanos\n",
    "# results = collection.query(\n",
    "#     query_embeddings=query_embedding,\n",
    "#     n_results=5,  # Número de resultados más cercanos\n",
    "#     include=['embeddings', 'metadatas', 'documents', 'distances']\n",
    "# )\n",
    "# print(results)\n"
   ],
   "id": "ea00929d8b3e67c2",
   "outputs": [],
   "execution_count": null
  }
 ],
 "metadata": {
  "kernelspec": {
   "display_name": "Python 3",
   "language": "python",
   "name": "python3"
  },
  "language_info": {
   "codemirror_mode": {
    "name": "ipython",
    "version": 2
   },
   "file_extension": ".py",
   "mimetype": "text/x-python",
   "name": "python",
   "nbconvert_exporter": "python",
   "pygments_lexer": "ipython2",
   "version": "2.7.6"
  }
 },
 "nbformat": 4,
 "nbformat_minor": 5
}
