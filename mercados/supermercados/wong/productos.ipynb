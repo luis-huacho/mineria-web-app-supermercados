{
 "cells": [
  {
   "cell_type": "code",
   "execution_count": 1,
   "metadata": {
    "ExecuteTime": {
     "end_time": "2024-10-08T20:28:01.638013Z",
     "start_time": "2024-10-08T20:28:01.616489Z"
    }
   },
   "outputs": [],
   "source": [
    "from datetime import datetime\n",
    "import pytz\n",
    "\n",
    "def fecha_hora_lima():\n",
    "    lima_tz = pytz.timezone('America/Lima')\n",
    "    lima_time = datetime.now(lima_tz)\n",
    "    return lima_time.strftime('%Y%m%d-%H%M%S')\n",
    "\n",
    "def fecha_hora_lima_db():\n",
    "    lima_tz = pytz.timezone('America/Lima')\n",
    "    lima_time = datetime.now(lima_tz)\n",
    "    return lima_time.strftime('%Y-%m-%d %H:%M:%S')\n",
    "\n",
    "fecha_hora_para_archivos = fecha_hora_lima()\n",
    "fecha_hora_para_base_de_datos = fecha_hora_lima_db()"
   ]
  },
  {
   "cell_type": "code",
   "execution_count": 2,
   "metadata": {
    "ExecuteTime": {
     "end_time": "2024-10-08T20:28:06.137719Z",
     "start_time": "2024-10-08T20:28:04.994264Z"
    },
    "colab": {
     "base_uri": "https://localhost:8080/"
    },
    "id": "elbJwCYAUBIp",
    "outputId": "cbc2b0db-3a63-42ba-c40d-bfbbc8dbb1eb"
   },
   "outputs": [
    {
     "name": "stdout",
     "output_type": "stream",
     "text": [
      "El archivo JSON se ha guardado exitosamente.\n",
      "26\n"
     ]
    }
   ],
   "source": [
    "import pandas as pd\n",
    "import requests\n",
    "import json\n",
    "\n",
    "# URL del JSON\n",
    "url = 'https://www.wong.pe/api/catalog_system/pub/category/tree/3'\n",
    "\n",
    "# Solicitar el contenido JSON desde la URL\n",
    "response = requests.get(url)\n",
    "\n",
    "# Verificar si la solicitud fue exitosa\n",
    "if response.status_code == 200:\n",
    "    data = response.json()  # Convertir la respuesta en un objeto JSON\n",
    "    file_name = f'categories_{fecha_hora_para_archivos}.json'\n",
    "    \n",
    "    # Guardar el JSON en un archivo\n",
    "    with open(file_name, 'w') as file:\n",
    "        json.dump(data, file, indent=4)\n",
    "\n",
    "    print('El archivo JSON se ha guardado exitosamente.')\n",
    "    with open(file_name, 'r') as file:\n",
    "        data = json.load(file)\n",
    "    print(len(data)) \n",
    "else:\n",
    "    print(f'Error al obtener el JSON. Código de estado: {response.status_code}')  "
   ]
  },
  {
   "cell_type": "code",
   "execution_count": 3,
   "metadata": {
    "colab": {
     "base_uri": "https://localhost:8080/"
    },
    "id": "1ZmeYAKFUwca",
    "outputId": "27a0ce60-def8-4c01-fdec-2fc96e98188c"
   },
   "outputs": [],
   "source": [
    "# file_path = 'wong_categories.json'\n",
    "# \n",
    "# with open(file_path, 'r') as file:\n",
    "#     data = json.load(file)\n",
    "#     print(json.dumps(data, indent=4))"
   ]
  },
  {
   "cell_type": "code",
   "execution_count": 4,
   "metadata": {
    "ExecuteTime": {
     "end_time": "2024-10-08T20:28:17.921540Z",
     "start_time": "2024-10-08T20:28:17.911431Z"
    },
    "id": "4omeiRHiqMdB"
   },
   "outputs": [
    {
     "data": {
      "text/html": [
       "<div>\n",
       "<style scoped>\n",
       "    .dataframe tbody tr th:only-of-type {\n",
       "        vertical-align: middle;\n",
       "    }\n",
       "\n",
       "    .dataframe tbody tr th {\n",
       "        vertical-align: top;\n",
       "    }\n",
       "\n",
       "    .dataframe thead th {\n",
       "        text-align: right;\n",
       "    }\n",
       "</style>\n",
       "<table border=\"1\" class=\"dataframe\">\n",
       "  <thead>\n",
       "    <tr style=\"text-align: right;\">\n",
       "      <th></th>\n",
       "      <th>id</th>\n",
       "      <th>name</th>\n",
       "      <th>hasChildren</th>\n",
       "      <th>url</th>\n",
       "      <th>NumChildren</th>\n",
       "      <th>Title</th>\n",
       "      <th>MetaTagDescription</th>\n",
       "      <th>parent_id</th>\n",
       "    </tr>\n",
       "  </thead>\n",
       "  <tbody>\n",
       "  </tbody>\n",
       "</table>\n",
       "</div>"
      ],
      "text/plain": [
       "Empty DataFrame\n",
       "Columns: [id, name, hasChildren, url, NumChildren, Title, MetaTagDescription, parent_id]\n",
       "Index: []"
      ]
     },
     "execution_count": 4,
     "metadata": {},
     "output_type": "execute_result"
    }
   ],
   "source": [
    "columns = ['id', 'name', 'hasChildren', 'url', 'NumChildren', 'Title', 'MetaTagDescription', 'parent_id']\n",
    "df = pd.DataFrame(columns=columns)\n",
    "df"
   ]
  },
  {
   "cell_type": "code",
   "execution_count": 5,
   "metadata": {
    "ExecuteTime": {
     "end_time": "2024-10-08T20:28:29.457752Z",
     "start_time": "2024-10-08T20:28:26.287850Z"
    },
    "id": "FyurbXGIcOm2"
   },
   "outputs": [],
   "source": [
    "for item in data:\n",
    "  if item['hasChildren']:\n",
    "    item['parent_id'] = ''\n",
    "    item['NumChildren'] = len(item['children'])\n",
    "\n",
    "    df.loc[len(df)] = item\n",
    "\n",
    "    parent_id = item['id']\n",
    "\n",
    "    for subitem in item['children']:\n",
    "      subitem['parent_id'] = parent_id\n",
    "      sub_parent_id = subitem['id']\n",
    "      subitem['NumChildren'] = len(subitem['children'])\n",
    "\n",
    "      df.loc[len(df)] = subitem\n",
    "\n",
    "      if len(subitem['children']) > 0:\n",
    "        for subsubitem in subitem['children']:\n",
    "          subsubitem['parent_id'] = sub_parent_id\n",
    "          subsubitem['NumChildren'] = len(subsubitem['children'])\n",
    "          df.loc[len(df)] = subsubitem"
   ]
  },
  {
   "cell_type": "code",
   "execution_count": 6,
   "metadata": {
    "ExecuteTime": {
     "end_time": "2024-10-08T20:28:34.020245Z",
     "start_time": "2024-10-08T20:28:34.008845Z"
    },
    "colab": {
     "base_uri": "https://localhost:8080/",
     "height": 81
    },
    "id": "JAEU_OPXulNm",
    "outputId": "85e5d9d5-5a53-441b-aba9-0994fd1b7538"
   },
   "outputs": [
    {
     "data": {
      "text/html": [
       "<div>\n",
       "<style scoped>\n",
       "    .dataframe tbody tr th:only-of-type {\n",
       "        vertical-align: middle;\n",
       "    }\n",
       "\n",
       "    .dataframe tbody tr th {\n",
       "        vertical-align: top;\n",
       "    }\n",
       "\n",
       "    .dataframe thead th {\n",
       "        text-align: right;\n",
       "    }\n",
       "</style>\n",
       "<table border=\"1\" class=\"dataframe\">\n",
       "  <thead>\n",
       "    <tr style=\"text-align: right;\">\n",
       "      <th></th>\n",
       "      <th>id</th>\n",
       "      <th>name</th>\n",
       "      <th>hasChildren</th>\n",
       "      <th>url</th>\n",
       "      <th>NumChildren</th>\n",
       "      <th>Title</th>\n",
       "      <th>MetaTagDescription</th>\n",
       "      <th>parent_id</th>\n",
       "    </tr>\n",
       "  </thead>\n",
       "  <tbody>\n",
       "  </tbody>\n",
       "</table>\n",
       "</div>"
      ],
      "text/plain": [
       "Empty DataFrame\n",
       "Columns: [id, name, hasChildren, url, NumChildren, Title, MetaTagDescription, parent_id]\n",
       "Index: []"
      ]
     },
     "execution_count": 6,
     "metadata": {},
     "output_type": "execute_result"
    }
   ],
   "source": [
    "df.query(\"id == 952\")"
   ]
  },
  {
   "cell_type": "code",
   "execution_count": 7,
   "metadata": {
    "ExecuteTime": {
     "end_time": "2024-10-08T20:29:12.417658Z",
     "start_time": "2024-10-08T20:29:12.395767Z"
    },
    "id": "TobEFrjszSFs"
   },
   "outputs": [],
   "source": [
    "file_name_categories_csv = f'wong_categories_{fecha_hora_para_archivos}.csv'\n",
    "df.to_csv(file_name_categories_csv, index=False)"
   ]
  },
  {
   "cell_type": "code",
   "execution_count": 8,
   "metadata": {
    "ExecuteTime": {
     "end_time": "2024-10-08T20:29:25.354109Z",
     "start_time": "2024-10-08T20:29:25.348598Z"
    },
    "colab": {
     "base_uri": "https://localhost:8080/"
    },
    "id": "dNra1vL9wVPv",
    "outputId": "730376e6-4603-452b-ca55-768749fbc2e4"
   },
   "outputs": [
    {
     "name": "stdout",
     "output_type": "stream",
     "text": [
      "[800, 1200, 1400, 1700, 1800, 1900, 2000, 2100, 2200, 1000144, 1000003, 1000131, 1000143, 1000069, 1001074, 1001253, 1001327, 2301, 1001374, 1001402, 1001436, 1001467, 1001470, 1001673, 1001701]\n"
     ]
    }
   ],
   "source": [
    "cats = df.query(\"parent_id == ''\")['id'].to_list()\n",
    "print(cats)"
   ]
  },
  {
   "cell_type": "code",
   "execution_count": null,
   "metadata": {
    "ExecuteTime": {
     "end_time": "2024-10-08T21:00:28.123910Z",
     "start_time": "2024-10-08T20:32:04.002014Z"
    },
    "colab": {
     "base_uri": "https://localhost:8080/"
    },
    "id": "5rwLy3Bq4MNu",
    "outputId": "91e49720-8172-41c0-fb40-3ad3bc4c4576"
   },
   "outputs": [
    {
     "name": "stdout",
     "output_type": "stream",
     "text": [
      "status_code = 200\n",
      "cat = 800, start = 600, end = 649\n",
      "status_code = 200\n",
      "cat = 1200, start = 600, end = 649\n",
      "status_code = 200\n",
      "cat = 1400, start = 550, end = 599\n"
     ]
    }
   ],
   "source": [
    "import time\n",
    "\n",
    "products = []\n",
    "\n",
    "for cat in cats:\n",
    "    start = 0\n",
    "    end = 49\n",
    "    \n",
    "    while True:\n",
    "        time.sleep(1)\n",
    "        url = f\"https://www.wong.pe/api/catalog_system/pub/products/search?fq=C:{cat}&_from={start}&_to={end}&O=OrderByPriceDESC\"\n",
    "        \n",
    "        response = requests.get(url)\n",
    "        \n",
    "        if response.status_code == 200 or response.status_code == 206:\n",
    "            data = response.json()\n",
    "            if not data:\n",
    "                break\n",
    "                 \n",
    "            products.extend(data)\n",
    "            start += 50\n",
    "            end += 50\n",
    "        else:\n",
    "            break\n",
    "    \n",
    "    print(f\"status_code = {response.status_code}\")\n",
    "    print(f\"cat = {cat}, start = {start}, end = {end}\")\n",
    "\n",
    " \n",
    "file_name_productos_csv = f'productos_{fecha_hora_para_archivos}.json'\n",
    "\n",
    "with open(file_name_productos_csv, 'w') as file:\n",
    "    json.dump(products, file, indent=4)"
   ]
  },
  {
   "cell_type": "code",
   "execution_count": null,
   "metadata": {
    "ExecuteTime": {
     "end_time": "2024-10-08T21:00:28.130914Z",
     "start_time": "2024-10-08T21:00:28.128591Z"
    },
    "colab": {
     "base_uri": "https://localhost:8080/"
    },
    "id": "yWkPsuK5c7mr",
    "outputId": "ca81f089-d939-4464-a1a3-2e04d50867d7"
   },
   "outputs": [],
   "source": [
    "print(len(products))"
   ]
  },
  {
   "cell_type": "code",
   "execution_count": null,
   "metadata": {
    "ExecuteTime": {
     "end_time": "2024-10-08T21:00:33.899407Z",
     "start_time": "2024-10-08T21:00:33.888423Z"
    },
    "colab": {
     "base_uri": "https://localhost:8080/",
     "height": 109
    },
    "id": "93uF5nqpdYXi",
    "outputId": "d0b48012-269c-4899-eadc-44a3c7bc60cc"
   },
   "outputs": [],
   "source": [
    "columns = ['productId', 'productName', 'brand', 'brandId', 'brandImageUrl','categoryId',\n",
    "           'productTitle', 'metaTagDescription', 'categories', 'categoriesIds', 'link', 'Vendido por',\n",
    "           'Descripción del producto', 'Presentación', 'Presentación/Empaque', 'Pack', 'Porción Sugerida',\n",
    "           'Azúcares Por Porción', 'Carbohidratos Por Porción', 'Descripción Nutricional', 'Grasas Por Porción',\n",
    "           'Advertencias de consumo', 'itemId', 'ean', 'imageUrl', 'Value', 'IsAvailable', 'AvailableQuantity',\n",
    "           'Price', 'ListPrice', 'PriceWithoutDiscount', 'PriceValidUntil', 'Created']\n",
    "\n",
    "df = pd.DataFrame(columns=columns)\n",
    "df"
   ]
  },
  {
   "cell_type": "code",
   "execution_count": null,
   "metadata": {
    "ExecuteTime": {
     "end_time": "2024-10-08T21:00:44.795664Z",
     "start_time": "2024-10-08T21:00:44.791668Z"
    },
    "colab": {
     "base_uri": "https://localhost:8080/"
    },
    "id": "YxYQEkdAtmZY",
    "outputId": "33610de8-71ea-4edc-c3d0-02a01295484c"
   },
   "outputs": [],
   "source": [
    "for product in products:\n",
    "  print(product['items'][0]['sellers'][0]['commertialOffer']['Installments'][0]['Value'])\n",
    "  print(product['items'][0]['sellers'][0]['commertialOffer']['PriceValidUntil'])\n",
    "  print(product['items'][0]['sellers'][0]['commertialOffer']['ListPrice'])\n",
    "  print(product['items'][0]['sellers'][0]['commertialOffer']['PriceWithoutDiscount'])\n",
    "  break"
   ]
  },
  {
   "cell_type": "code",
   "execution_count": null,
   "metadata": {
    "ExecuteTime": {
     "end_time": "2024-10-08T21:00:50.303494Z",
     "start_time": "2024-10-08T21:00:50.298399Z"
    },
    "colab": {
     "base_uri": "https://localhost:8080/"
    },
    "id": "HPFh971gb6Nf",
    "outputId": "54144a8f-29ce-4a8a-f867-e699136b2e18"
   },
   "outputs": [],
   "source": [
    "print(json.dumps(products[3099], indent=4))"
   ]
  },
  {
   "cell_type": "code",
   "execution_count": null,
   "metadata": {
    "colab": {
     "base_uri": "https://localhost:8080/",
     "height": 391
    },
    "id": "xQp5csl8bDqt",
    "outputId": "fb99ea92-5d25-4b57-f043-c2736497801c"
   },
   "outputs": [],
   "source": [
    "# print(json.dumps(products, indent=4))"
   ]
  },
  {
   "cell_type": "code",
   "execution_count": null,
   "metadata": {
    "ExecuteTime": {
     "end_time": "2024-10-08T21:00:57.204085Z",
     "start_time": "2024-10-08T21:00:57.200656Z"
    }
   },
   "outputs": [],
   "source": [
    "def print_value(value, key):\n",
    "    if value:\n",
    "        print(f\"{key} = {value}\")\n",
    "    else:\n",
    "        print(f\"{key} = None\")"
   ]
  },
  {
   "cell_type": "code",
   "execution_count": null,
   "metadata": {
    "ExecuteTime": {
     "end_time": "2024-10-08T21:00:59.689100Z",
     "start_time": "2024-10-08T21:00:59.649128Z"
    }
   },
   "outputs": [],
   "source": [
    "from bs4 import BeautifulSoup\n",
    "\n",
    "def clean_html(html_code):\n",
    "    if html_code is None:\n",
    "        return ''\n",
    "    if isinstance(html_code, list):\n",
    "        html_code = ' '.join(html_code)\n",
    "    soup = BeautifulSoup(html_code, 'html.parser')\n",
    "    return soup.get_text()"
   ]
  },
  {
   "cell_type": "code",
   "execution_count": null,
   "metadata": {
    "ExecuteTime": {
     "end_time": "2024-10-08T21:01:03.113967Z",
     "start_time": "2024-10-08T21:01:03.106438Z"
    }
   },
   "outputs": [],
   "source": [
    "def get_product_data(product, fecha_db):\n",
    "    product['Created'] = fecha_db\n",
    "    new_product = {}\n",
    "    new_product['productId'] = product.get('productId')\n",
    "    new_product['productName'] = product.get('productName')\n",
    "    new_product['brand'] = product.get('brand')\n",
    "    new_product['brandId'] = product.get('brandId')\n",
    "    new_product['brandImageUrl'] = product.get('brandImageUrl')\n",
    "    new_product['categoryId'] = product.get('categoryId')\n",
    "    new_product['productTitle'] = product.get('productTitle')\n",
    "    new_product['metaTagDescription'] = product.get('metaTagDescription')\n",
    "    new_product['categories'] = product.get('categories')\n",
    "    new_product['categoriesIds'] = product.get('categoriesIds')\n",
    "    new_product['link'] = product.get('link')\n",
    "    new_product['Vendido por'] = product.get('Vendido por')\n",
    "    new_product['Descripción del producto'] = clean_html(product.get('Descripción del producto'))\n",
    "    new_product['Presentación'] = product.get('Presentación')\n",
    "    new_product['Presentación/Empaque'] = product.get('Presentación/Empaque')\n",
    "    new_product['Pack'] = product.get('Pack')\n",
    "    new_product['Porción Sugerida'] = product.get('Porción Sugerida')\n",
    "    new_product['Azúcares Por Porción'] = product.get('Azúcares Por Porción')\n",
    "    new_product['Carbohidratos Por Porción'] = product.get('Carbohidratos Por Porción')\n",
    "    new_product['Descripción Nutricional'] = product.get('Descripción Nutricional')\n",
    "    new_product['Grasas Por Porción'] = product.get('Grasas Por Porción')\n",
    "    new_product['Advertencias de consumo'] = product.get('Advertencias de consumo')\n",
    "    \n",
    "    if product['items']:\n",
    "        new_product['itemId'] = product['items'][0].get('itemId', None)\n",
    "        new_product['ean'] = product['items'][0].get('ean', None)\n",
    "        if product['items'][0]['images']:\n",
    "            new_product['imageUrl'] = product['items'][0]['images'][0].get('imageUrl', None)\n",
    "            if product['items'][0]['sellers']:\n",
    "                commertial_offer = product['items'][0]['sellers'][0].get('commertialOffer', {})\n",
    "                if commertial_offer.get('Installments'):\n",
    "                    new_product['Value'] = commertial_offer['Installments'][0].get('Value', None)\n",
    "                new_product['IsAvailable'] = commertial_offer.get('IsAvailable', None)\n",
    "                new_product['AvailableQuantity'] = commertial_offer.get('AvailableQuantity', None)\n",
    "                new_product['Price'] = commertial_offer.get('Price', None)\n",
    "                new_product['ListPrice'] = commertial_offer.get('ListPrice', None)\n",
    "                new_product['PriceWithoutDiscount'] = commertial_offer.get('PriceWithoutDiscount', None)\n",
    "                new_product['PriceValidUntil'] = commertial_offer.get('PriceValidUntil', None)\n",
    "\n",
    "    new_product['Created'] = product['Created']\n",
    "    \n",
    "    return new_product"
   ]
  },
  {
   "cell_type": "code",
   "execution_count": null,
   "metadata": {
    "ExecuteTime": {
     "end_time": "2024-10-08T21:01:11.584450Z",
     "start_time": "2024-10-08T21:01:11.573766Z"
    }
   },
   "outputs": [],
   "source": [
    "# Para validar que los datos se están extrayendo correctamente\n",
    "\n",
    "i = 0\n",
    "for product in products:\n",
    "    i += 1\n",
    "    product['Created'] = fecha_hora_lima_db()\n",
    "    print_value(product.get('productId'), 'productId')\n",
    "    print_value(product.get('productName'), 'productName')\n",
    "    print_value(product.get('brand'), 'brand')\n",
    "    print_value(product.get('brandId'), 'brandId')\n",
    "    print_value(product.get('brandImageUrl'), 'brandImageUrl')\n",
    "    print_value(product.get('categoryId'), 'categoryId')\n",
    "    print_value(product.get('productTitle'), 'productTitle')\n",
    "    print_value(product.get('metaTagDescription'), 'metaTagDescription')\n",
    "    print_value(product.get('categories'), 'categories')\n",
    "    print_value(product.get('categoriesIds'), 'categoriesIds')\n",
    "    print_value(product.get('link'), 'link')\n",
    "    print_value(product.get('Vendido por'), 'Vendido por')\n",
    "    print_value(clean_html(product.get('Descripción del producto')), 'Descripción del producto')\n",
    "    print_value(product.get('Presentación'), 'Presentación')\n",
    "    print_value(product.get('Presentación/Empaque'), 'Presentación/Empaque')\n",
    "    print_value(product.get('Pack'), 'Pack')\n",
    "    print_value(product.get('Porción Sugerida'), 'Porción Sugerida')\n",
    "    print_value(product.get('Azúcares Por Porción'), 'Azúcares Por Porción')\n",
    "    print_value(product.get('Carbohidratos Por Porción'), 'Carbohidratos Por Porción')\n",
    "    print_value(product.get('Descripción Nutricional'), 'Descripción Nutricional')\n",
    "    print_value(product.get('Grasas Por Porción'), 'Grasas Por Porción')\n",
    "    print_value(product.get('Advertencias de consumo'), 'Advertencias de consumo')\n",
    "    print_value(product['items'][0]['itemId'], 'itemId')\n",
    "    print_value(product['items'][0]['ean'], 'ean')\n",
    "    print_value(product['items'][0]['images'][0]['imageUrl'], 'imageUrl')\n",
    "    print_value(product['items'][0]['sellers'][0]['commertialOffer']['Installments'][0]['Value'], 'Value')\n",
    "    print_value(product['items'][0]['sellers'][0]['commertialOffer']['IsAvailable'], 'IsAvailable')\n",
    "    print_value(product['items'][0]['sellers'][0]['commertialOffer']['AvailableQuantity'], 'AvailableQuantity')\n",
    "    print_value(product['items'][0]['sellers'][0]['commertialOffer']['Price'], 'Price')\n",
    "    print_value(product['items'][0]['sellers'][0]['commertialOffer']['ListPrice'], 'ListPrice')\n",
    "    print_value(product['items'][0]['sellers'][0]['commertialOffer']['PriceWithoutDiscount'], 'PriceWithoutDiscount')\n",
    "    print_value(product['items'][0]['sellers'][0]['commertialOffer']['PriceValidUntil'], 'PriceValidUntil')\n",
    "    print_value(product['Created'], 'Created')\n",
    "    \n",
    "    if i == 3:\n",
    "        break"
   ]
  },
  {
   "cell_type": "code",
   "execution_count": null,
   "metadata": {
    "ExecuteTime": {
     "end_time": "2024-10-08T21:13:23.368298Z",
     "start_time": "2024-10-08T21:01:21.894892Z"
    },
    "colab": {
     "base_uri": "https://localhost:8080/",
     "height": 221
    },
    "id": "ywPf1QLp4szi",
    "outputId": "9089c06c-140e-4c56-a42d-de5aa871669e"
   },
   "outputs": [],
   "source": [
    "for product in products:\n",
    "  new_product = get_product_data(product, fecha_hora_para_base_de_datos)\n",
    "  df.loc[len(df)] = new_product"
   ]
  },
  {
   "cell_type": "code",
   "execution_count": null,
   "metadata": {
    "ExecuteTime": {
     "end_time": "2024-10-08T21:14:22.531722Z",
     "start_time": "2024-10-08T21:14:22.516804Z"
    }
   },
   "outputs": [],
   "source": [
    "df.sample(n=5)"
   ]
  },
  {
   "cell_type": "code",
   "execution_count": null,
   "metadata": {
    "ExecuteTime": {
     "end_time": "2024-10-08T22:51:39.668058Z",
     "start_time": "2024-10-08T22:51:39.639907Z"
    }
   },
   "outputs": [],
   "source": [
    "df[['productId', 'productName', 'brand', 'categoryId', 'link', 'Price', 'AvailableQuantity']].sample(n=8)"
   ]
  },
  {
   "cell_type": "code",
   "execution_count": null,
   "metadata": {
    "ExecuteTime": {
     "end_time": "2024-10-08T22:51:13.185289Z",
     "start_time": "2024-10-08T22:51:13.077001Z"
    }
   },
   "outputs": [],
   "source": [
    "df.info()"
   ]
  },
  {
   "cell_type": "code",
   "execution_count": null,
   "metadata": {
    "ExecuteTime": {
     "end_time": "2024-10-08T22:59:19.938710Z",
     "start_time": "2024-10-08T22:59:19.913917Z"
    }
   },
   "outputs": [],
   "source": [
    "df['product_uri_json'] = df['productId'].apply(lambda x: f'https://www.wong.pe/api/catalog_system/pub/products/search?fq=productId:{x}')"
   ]
  },
  {
   "cell_type": "code",
   "execution_count": null,
   "metadata": {
    "ExecuteTime": {
     "end_time": "2024-10-08T22:59:24.363457Z",
     "start_time": "2024-10-08T22:59:24.357720Z"
    }
   },
   "outputs": [],
   "source": [
    "df['product_uri_json'].sample(n=5)"
   ]
  },
  {
   "cell_type": "code",
   "execution_count": null,
   "metadata": {
    "ExecuteTime": {
     "end_time": "2024-10-08T23:03:09.368385Z",
     "start_time": "2024-10-08T23:03:08.208667Z"
    }
   },
   "outputs": [],
   "source": [
    "file_name_productos_csv = f'productos_{fecha_hora_para_archivos}.csv'\n",
    "df.to_csv(file_name_productos_csv, index=False)"
   ]
  },
  {
   "cell_type": "code",
   "execution_count": null,
   "metadata": {
    "ExecuteTime": {
     "end_time": "2024-10-08T23:05:38.371053Z",
     "start_time": "2024-10-08T23:05:38.364958Z"
    }
   },
   "outputs": [],
   "source": [
    "df.iloc[26955]"
   ]
  }
 ],
 "metadata": {
  "colab": {
   "provenance": []
  },
  "kernelspec": {
   "display_name": "Python 3 (ipykernel)",
   "language": "python",
   "name": "python3"
  },
  "language_info": {
   "codemirror_mode": {
    "name": "ipython",
    "version": 3
   },
   "file_extension": ".py",
   "mimetype": "text/x-python",
   "name": "python",
   "nbconvert_exporter": "python",
   "pygments_lexer": "ipython3",
   "version": "3.12.4"
  }
 },
 "nbformat": 4,
 "nbformat_minor": 4
}
