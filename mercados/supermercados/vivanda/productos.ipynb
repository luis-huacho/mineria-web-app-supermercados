{
 "cells": [
  {
   "cell_type": "code",
   "execution_count": 1,
   "metadata": {
    "ExecuteTime": {
     "end_time": "2024-10-08T20:28:01.638013Z",
     "start_time": "2024-10-08T20:28:01.616489Z"
    }
   },
   "outputs": [],
   "source": [
    "from datetime import datetime\n",
    "import pytz\n",
    "\n",
    "def fecha_hora_lima():\n",
    "    lima_tz = pytz.timezone('America/Lima')\n",
    "    lima_time = datetime.now(lima_tz)\n",
    "    return lima_time.strftime('%Y%m%d-%H%M%S')\n",
    "\n",
    "def fecha_hora_lima_db():\n",
    "    lima_tz = pytz.timezone('America/Lima')\n",
    "    lima_time = datetime.now(lima_tz)\n",
    "    return lima_time.strftime('%Y-%m-%d %H:%M:%S')\n",
    "\n",
    "fecha_hora_para_archivos = fecha_hora_lima()\n",
    "fecha_hora_para_base_de_datos = fecha_hora_lima_db()"
   ]
  },
  {
   "cell_type": "code",
   "execution_count": 2,
   "metadata": {
    "ExecuteTime": {
     "end_time": "2024-10-08T20:28:06.137719Z",
     "start_time": "2024-10-08T20:28:04.994264Z"
    },
    "colab": {
     "base_uri": "https://localhost:8080/"
    },
    "id": "elbJwCYAUBIp",
    "outputId": "cbc2b0db-3a63-42ba-c40d-bfbbc8dbb1eb"
   },
   "outputs": [
    {
     "name": "stdout",
     "output_type": "stream",
     "text": [
      "El archivo JSON se ha guardado exitosamente.\n",
      "27\n"
     ]
    }
   ],
   "source": [
    "import pandas as pd\n",
    "import requests\n",
    "import json\n",
    "\n",
    "# URL del JSON\n",
    "url = 'https://www.vivanda.com.pe/api/catalog_system/pub/category/tree/3'\n",
    "\n",
    "# Solicitar el contenido JSON desde la URL\n",
    "response = requests.get(url)\n",
    "\n",
    "# Verificar si la solicitud fue exitosa\n",
    "if response.status_code == 200:\n",
    "    data = response.json()  # Convertir la respuesta en un objeto JSON\n",
    "    file_name = f'categories_{fecha_hora_para_archivos}.json'\n",
    "    \n",
    "    # Guardar el JSON en un archivo\n",
    "    with open(file_name, 'w') as file:\n",
    "        json.dump(data, file, indent=4)\n",
    "\n",
    "    print('El archivo JSON se ha guardado exitosamente.')\n",
    "    with open(file_name, 'r') as file:\n",
    "        data = json.load(file)\n",
    "    print(len(data)) \n",
    "else:\n",
    "    print(f'Error al obtener el JSON. Código de estado: {response.status_code}')  "
   ]
  },
  {
   "cell_type": "code",
   "execution_count": 3,
   "metadata": {
    "colab": {
     "base_uri": "https://localhost:8080/"
    },
    "id": "1ZmeYAKFUwca",
    "outputId": "27a0ce60-def8-4c01-fdec-2fc96e98188c"
   },
   "outputs": [],
   "source": [
    "# file_path = 'vivanda_categories.json'\n",
    "# \n",
    "# with open(file_path, 'r') as file:\n",
    "#     data = json.load(file)\n",
    "#     print(json.dumps(data, indent=4))"
   ]
  },
  {
   "cell_type": "code",
   "execution_count": 4,
   "metadata": {
    "ExecuteTime": {
     "end_time": "2024-10-08T20:28:17.921540Z",
     "start_time": "2024-10-08T20:28:17.911431Z"
    },
    "id": "4omeiRHiqMdB"
   },
   "outputs": [
    {
     "data": {
      "text/html": [
       "<div>\n",
       "<style scoped>\n",
       "    .dataframe tbody tr th:only-of-type {\n",
       "        vertical-align: middle;\n",
       "    }\n",
       "\n",
       "    .dataframe tbody tr th {\n",
       "        vertical-align: top;\n",
       "    }\n",
       "\n",
       "    .dataframe thead th {\n",
       "        text-align: right;\n",
       "    }\n",
       "</style>\n",
       "<table border=\"1\" class=\"dataframe\">\n",
       "  <thead>\n",
       "    <tr style=\"text-align: right;\">\n",
       "      <th></th>\n",
       "      <th>id</th>\n",
       "      <th>name</th>\n",
       "      <th>hasChildren</th>\n",
       "      <th>url</th>\n",
       "      <th>NumChildren</th>\n",
       "      <th>Title</th>\n",
       "      <th>MetaTagDescription</th>\n",
       "      <th>parent_id</th>\n",
       "    </tr>\n",
       "  </thead>\n",
       "  <tbody>\n",
       "  </tbody>\n",
       "</table>\n",
       "</div>"
      ],
      "text/plain": [
       "Empty DataFrame\n",
       "Columns: [id, name, hasChildren, url, NumChildren, Title, MetaTagDescription, parent_id]\n",
       "Index: []"
      ]
     },
     "execution_count": 4,
     "metadata": {},
     "output_type": "execute_result"
    }
   ],
   "source": [
    "columns = ['id', 'name', 'hasChildren', 'url', 'NumChildren', 'Title', 'MetaTagDescription', 'parent_id']\n",
    "df = pd.DataFrame(columns=columns)\n",
    "df"
   ]
  },
  {
   "cell_type": "code",
   "execution_count": 5,
   "metadata": {
    "ExecuteTime": {
     "end_time": "2024-10-08T20:28:29.457752Z",
     "start_time": "2024-10-08T20:28:26.287850Z"
    },
    "id": "FyurbXGIcOm2"
   },
   "outputs": [],
   "source": [
    "for item in data:\n",
    "  if item['hasChildren']:\n",
    "    item['parent_id'] = ''\n",
    "    item['NumChildren'] = len(item['children'])\n",
    "\n",
    "    df.loc[len(df)] = item\n",
    "\n",
    "    parent_id = item['id']\n",
    "\n",
    "    for subitem in item['children']:\n",
    "      subitem['parent_id'] = parent_id\n",
    "      sub_parent_id = subitem['id']\n",
    "      subitem['NumChildren'] = len(subitem['children'])\n",
    "\n",
    "      df.loc[len(df)] = subitem\n",
    "\n",
    "      if len(subitem['children']) > 0:\n",
    "        for subsubitem in subitem['children']:\n",
    "          subsubitem['parent_id'] = sub_parent_id\n",
    "          subsubitem['NumChildren'] = len(subsubitem['children'])\n",
    "          df.loc[len(df)] = subsubitem"
   ]
  },
  {
   "cell_type": "code",
   "execution_count": 6,
   "metadata": {
    "ExecuteTime": {
     "end_time": "2024-10-08T20:28:34.020245Z",
     "start_time": "2024-10-08T20:28:34.008845Z"
    },
    "colab": {
     "base_uri": "https://localhost:8080/",
     "height": 81
    },
    "id": "JAEU_OPXulNm",
    "outputId": "85e5d9d5-5a53-441b-aba9-0994fd1b7538"
   },
   "outputs": [
    {
     "data": {
      "text/html": [
       "<div>\n",
       "<style scoped>\n",
       "    .dataframe tbody tr th:only-of-type {\n",
       "        vertical-align: middle;\n",
       "    }\n",
       "\n",
       "    .dataframe tbody tr th {\n",
       "        vertical-align: top;\n",
       "    }\n",
       "\n",
       "    .dataframe thead th {\n",
       "        text-align: right;\n",
       "    }\n",
       "</style>\n",
       "<table border=\"1\" class=\"dataframe\">\n",
       "  <thead>\n",
       "    <tr style=\"text-align: right;\">\n",
       "      <th></th>\n",
       "      <th>id</th>\n",
       "      <th>name</th>\n",
       "      <th>hasChildren</th>\n",
       "      <th>url</th>\n",
       "      <th>NumChildren</th>\n",
       "      <th>Title</th>\n",
       "      <th>MetaTagDescription</th>\n",
       "      <th>parent_id</th>\n",
       "    </tr>\n",
       "  </thead>\n",
       "  <tbody>\n",
       "    <tr>\n",
       "      <th>640</th>\n",
       "      <td>952</td>\n",
       "      <td>Zapatillas Outdoor para Mujer</td>\n",
       "      <td>False</td>\n",
       "      <td>https://www.vivanda.com.pe/moda/zapatillas-muj...</td>\n",
       "      <td>0</td>\n",
       "      <td>Zapatillas Outdoor para Mujer</td>\n",
       "      <td></td>\n",
       "      <td>908</td>\n",
       "    </tr>\n",
       "  </tbody>\n",
       "</table>\n",
       "</div>"
      ],
      "text/plain": [
       "      id                           name  hasChildren  \\\n",
       "640  952  Zapatillas Outdoor para Mujer        False   \n",
       "\n",
       "                                                   url  NumChildren  \\\n",
       "640  https://www.vivanda.com.pe/moda/zapatillas-muj...            0   \n",
       "\n",
       "                             Title MetaTagDescription parent_id  \n",
       "640  Zapatillas Outdoor para Mujer                          908  "
      ]
     },
     "execution_count": 6,
     "metadata": {},
     "output_type": "execute_result"
    }
   ],
   "source": [
    "df.query(\"id == 952\")"
   ]
  },
  {
   "cell_type": "code",
   "execution_count": 7,
   "metadata": {
    "ExecuteTime": {
     "end_time": "2024-10-08T20:29:12.417658Z",
     "start_time": "2024-10-08T20:29:12.395767Z"
    },
    "id": "TobEFrjszSFs"
   },
   "outputs": [],
   "source": [
    "file_name_categories_csv = f'vivanda_categories_{fecha_hora_para_archivos}.csv'\n",
    "df.to_csv(file_name_categories_csv, index=False)"
   ]
  },
  {
   "cell_type": "code",
   "execution_count": 8,
   "metadata": {
    "ExecuteTime": {
     "end_time": "2024-10-08T20:29:25.354109Z",
     "start_time": "2024-10-08T20:29:25.348598Z"
    },
    "colab": {
     "base_uri": "https://localhost:8080/"
    },
    "id": "dNra1vL9wVPv",
    "outputId": "730376e6-4603-452b-ca55-768749fbc2e4"
   },
   "outputs": [
    {
     "name": "stdout",
     "output_type": "stream",
     "text": [
      "[11, 12, 13, 15, 17, 18, 19, 20, 21, 22, 525, 487, 883, 902, 993, 995, 996, 997, 998, 999, 1000, 1001, 1003, 1610, 1622, 1746]\n"
     ]
    }
   ],
   "source": [
    "cats = df.query(\"parent_id == ''\")['id'].to_list()\n",
    "print(cats)"
   ]
  },
  {
   "cell_type": "code",
   "execution_count": 9,
   "metadata": {
    "ExecuteTime": {
     "end_time": "2024-10-08T21:00:28.123910Z",
     "start_time": "2024-10-08T20:32:04.002014Z"
    },
    "colab": {
     "base_uri": "https://localhost:8080/"
    },
    "id": "5rwLy3Bq4MNu",
    "outputId": "91e49720-8172-41c0-fb40-3ad3bc4c4576"
   },
   "outputs": [
    {
     "name": "stdout",
     "output_type": "stream",
     "text": [
      "status_code = 200\n",
      "cat = 11, start = 450, end = 499\n",
      "status_code = 200\n",
      "cat = 12, start = 400, end = 449\n",
      "status_code = 200\n",
      "cat = 13, start = 600, end = 649\n",
      "status_code = 500\n",
      "cat = 15, start = 50, end = 99\n",
      "status_code = 200\n",
      "cat = 17, start = 1950, end = 1999\n",
      "status_code = 200\n",
      "cat = 18, start = 500, end = 549\n",
      "status_code = 500\n",
      "cat = 19, start = 350, end = 399\n",
      "status_code = 200\n",
      "cat = 20, start = 1100, end = 1149\n",
      "status_code = 200\n",
      "cat = 21, start = 800, end = 849\n",
      "status_code = 200\n",
      "cat = 22, start = 900, end = 949\n",
      "status_code = 200\n",
      "cat = 525, start = 750, end = 799\n",
      "status_code = 200\n",
      "cat = 487, start = 400, end = 449\n",
      "status_code = 500\n",
      "cat = 883, start = 150, end = 199\n",
      "status_code = 200\n",
      "cat = 902, start = 50, end = 99\n",
      "status_code = 200\n",
      "cat = 993, start = 950, end = 999\n",
      "status_code = 200\n",
      "cat = 995, start = 150, end = 199\n",
      "status_code = 200\n",
      "cat = 996, start = 650, end = 699\n",
      "status_code = 200\n",
      "cat = 997, start = 550, end = 599\n",
      "status_code = 200\n",
      "cat = 998, start = 550, end = 599\n",
      "status_code = 200\n",
      "cat = 999, start = 1100, end = 1149\n",
      "status_code = 500\n",
      "cat = 1000, start = 300, end = 349\n",
      "status_code = 200\n",
      "cat = 1001, start = 150, end = 199\n",
      "status_code = 200\n",
      "cat = 1003, start = 100, end = 149\n",
      "status_code = 200\n",
      "cat = 1610, start = 200, end = 249\n",
      "status_code = 200\n",
      "cat = 1622, start = 150, end = 199\n",
      "status_code = 200\n",
      "cat = 1746, start = 1200, end = 1249\n"
     ]
    }
   ],
   "source": [
    "import time\n",
    "\n",
    "products = []\n",
    "\n",
    "for cat in cats:\n",
    "    start = 0\n",
    "    end = 49\n",
    "    \n",
    "    while True:\n",
    "        time.sleep(1)\n",
    "        url = f\"https://www.vivanda.com.pe/api/catalog_system/pub/products/search?fq=C:{cat}&_from={start}&_to={end}&O=OrderByPriceDESC\"\n",
    "        \n",
    "        response = requests.get(url)\n",
    "        \n",
    "        if response.status_code == 200 or response.status_code == 206:\n",
    "            data = response.json()\n",
    "            if not data:\n",
    "                break\n",
    "                 \n",
    "            products.extend(data)\n",
    "            start += 50\n",
    "            end += 50\n",
    "        else:\n",
    "            break\n",
    "    \n",
    "    print(f\"status_code = {response.status_code}\")\n",
    "    print(f\"cat = {cat}, start = {start}, end = {end}\")\n",
    "\n",
    " \n",
    "file_name_productos_csv = f'productos_{fecha_hora_para_archivos}.json'\n",
    "\n",
    "with open(file_name_productos_csv, 'w') as file:\n",
    "    json.dump(products, file, indent=4)"
   ]
  },
  {
   "cell_type": "code",
   "execution_count": 10,
   "metadata": {
    "ExecuteTime": {
     "end_time": "2024-10-08T21:00:28.130914Z",
     "start_time": "2024-10-08T21:00:28.128591Z"
    },
    "colab": {
     "base_uri": "https://localhost:8080/"
    },
    "id": "yWkPsuK5c7mr",
    "outputId": "ca81f089-d939-4464-a1a3-2e04d50867d7"
   },
   "outputs": [
    {
     "name": "stdout",
     "output_type": "stream",
     "text": [
      "13829\n"
     ]
    }
   ],
   "source": [
    "print(len(products))"
   ]
  },
  {
   "cell_type": "code",
   "execution_count": 11,
   "metadata": {
    "ExecuteTime": {
     "end_time": "2024-10-08T21:00:33.899407Z",
     "start_time": "2024-10-08T21:00:33.888423Z"
    },
    "colab": {
     "base_uri": "https://localhost:8080/",
     "height": 109
    },
    "id": "93uF5nqpdYXi",
    "outputId": "d0b48012-269c-4899-eadc-44a3c7bc60cc"
   },
   "outputs": [
    {
     "data": {
      "text/html": [
       "<div>\n",
       "<style scoped>\n",
       "    .dataframe tbody tr th:only-of-type {\n",
       "        vertical-align: middle;\n",
       "    }\n",
       "\n",
       "    .dataframe tbody tr th {\n",
       "        vertical-align: top;\n",
       "    }\n",
       "\n",
       "    .dataframe thead th {\n",
       "        text-align: right;\n",
       "    }\n",
       "</style>\n",
       "<table border=\"1\" class=\"dataframe\">\n",
       "  <thead>\n",
       "    <tr style=\"text-align: right;\">\n",
       "      <th></th>\n",
       "      <th>productId</th>\n",
       "      <th>productName</th>\n",
       "      <th>brand</th>\n",
       "      <th>brandId</th>\n",
       "      <th>brandImageUrl</th>\n",
       "      <th>categoryId</th>\n",
       "      <th>productTitle</th>\n",
       "      <th>metaTagDescription</th>\n",
       "      <th>categories</th>\n",
       "      <th>categoriesIds</th>\n",
       "      <th>...</th>\n",
       "      <th>ean</th>\n",
       "      <th>imageUrl</th>\n",
       "      <th>Value</th>\n",
       "      <th>IsAvailable</th>\n",
       "      <th>AvailableQuantity</th>\n",
       "      <th>Price</th>\n",
       "      <th>ListPrice</th>\n",
       "      <th>PriceWithoutDiscount</th>\n",
       "      <th>PriceValidUntil</th>\n",
       "      <th>Created</th>\n",
       "    </tr>\n",
       "  </thead>\n",
       "  <tbody>\n",
       "  </tbody>\n",
       "</table>\n",
       "<p>0 rows × 33 columns</p>\n",
       "</div>"
      ],
      "text/plain": [
       "Empty DataFrame\n",
       "Columns: [productId, productName, brand, brandId, brandImageUrl, categoryId, productTitle, metaTagDescription, categories, categoriesIds, link, Vendido por, Descripción del producto, Presentación, Presentación/Empaque, Pack, Porción Sugerida, Azúcares Por Porción, Carbohidratos Por Porción, Descripción Nutricional, Grasas Por Porción, Advertencias de consumo, itemId, ean, imageUrl, Value, IsAvailable, AvailableQuantity, Price, ListPrice, PriceWithoutDiscount, PriceValidUntil, Created]\n",
       "Index: []\n",
       "\n",
       "[0 rows x 33 columns]"
      ]
     },
     "execution_count": 11,
     "metadata": {},
     "output_type": "execute_result"
    }
   ],
   "source": [
    "columns = ['productId', 'productName', 'brand', 'brandId', 'brandImageUrl','categoryId',\n",
    "           'productTitle', 'metaTagDescription', 'categories', 'categoriesIds', 'link', 'Vendido por',\n",
    "           'Descripción del producto', 'Presentación', 'Presentación/Empaque', 'Pack', 'Porción Sugerida',\n",
    "           'Azúcares Por Porción', 'Carbohidratos Por Porción', 'Descripción Nutricional', 'Grasas Por Porción',\n",
    "           'Advertencias de consumo', 'itemId', 'ean', 'imageUrl', 'Value', 'IsAvailable', 'AvailableQuantity',\n",
    "           'Price', 'ListPrice', 'PriceWithoutDiscount', 'PriceValidUntil', 'Created']\n",
    "\n",
    "df = pd.DataFrame(columns=columns)\n",
    "df"
   ]
  },
  {
   "cell_type": "code",
   "execution_count": 12,
   "metadata": {
    "ExecuteTime": {
     "end_time": "2024-10-08T21:00:44.795664Z",
     "start_time": "2024-10-08T21:00:44.791668Z"
    },
    "colab": {
     "base_uri": "https://localhost:8080/"
    },
    "id": "YxYQEkdAtmZY",
    "outputId": "33610de8-71ea-4edc-c3d0-02a01295484c"
   },
   "outputs": [
    {
     "name": "stdout",
     "output_type": "stream",
     "text": [
      "35.39\n",
      "3000-01-02T05:00:00Z\n",
      "35.39\n",
      "35.39\n"
     ]
    }
   ],
   "source": [
    "for product in products:\n",
    "  print(product['items'][0]['sellers'][0]['commertialOffer']['Installments'][0]['Value'])\n",
    "  print(product['items'][0]['sellers'][0]['commertialOffer']['PriceValidUntil'])\n",
    "  print(product['items'][0]['sellers'][0]['commertialOffer']['ListPrice'])\n",
    "  print(product['items'][0]['sellers'][0]['commertialOffer']['PriceWithoutDiscount'])\n",
    "  break"
   ]
  },
  {
   "cell_type": "code",
   "execution_count": 13,
   "metadata": {
    "ExecuteTime": {
     "end_time": "2024-10-08T21:00:50.303494Z",
     "start_time": "2024-10-08T21:00:50.298399Z"
    },
    "colab": {
     "base_uri": "https://localhost:8080/"
    },
    "id": "HPFh971gb6Nf",
    "outputId": "54144a8f-29ce-4a8a-f867-e699136b2e18"
   },
   "outputs": [
    {
     "name": "stdout",
     "output_type": "stream",
     "text": [
      "{\n",
      "    \"productId\": \"101124703\",\n",
      "    \"productName\": \"Aceite de Sacha Inchi GATTI Extra Virgen Botella 250ml\",\n",
      "    \"brand\": \"GATTI\",\n",
      "    \"brandId\": 66821,\n",
      "    \"brandImageUrl\": null,\n",
      "    \"linkText\": \"aceite-de-sacha-inchi-gatti-extra-virgen-botella-250ml\",\n",
      "    \"productReference\": \"20462996\",\n",
      "    \"productReferenceCode\": \"20462996\",\n",
      "    \"categoryId\": \"247\",\n",
      "    \"productTitle\": \"Aceite de Sacha Inchi GATTI Extra Virgen Botella 250ml | Vivanda\",\n",
      "    \"metaTagDescription\": \"\\u00a1Compra online Aceite de Sacha Inchi GATTI Extra Virgen Botella 250ml al mejor precio en vivanda.com.pe desde donde est\\u00e9s!\",\n",
      "    \"releaseDate\": \"2024-10-24T00:00:00Z\",\n",
      "    \"clusterHighlights\": {},\n",
      "    \"productClusters\": {},\n",
      "    \"searchableClusters\": {},\n",
      "    \"categories\": [\n",
      "        \"/Abarrotes/Aceite/Aceites Especiales/\",\n",
      "        \"/Abarrotes/Aceite/\",\n",
      "        \"/Abarrotes/\"\n",
      "    ],\n",
      "    \"categoriesIds\": [\n",
      "        \"/17/57/247/\",\n",
      "        \"/17/57/\",\n",
      "        \"/17/\"\n",
      "    ],\n",
      "    \"link\": \"https://www.vivanda.com.pe/aceite-de-sacha-inchi-gatti-extra-virgen-botella-250ml/p\",\n",
      "    \"% De Acidez\": [\n",
      "        \"<lt/> 2\"\n",
      "    ],\n",
      "    \"Surtido\": [\n",
      "        \"No\"\n",
      "    ],\n",
      "    \"Carbohidratos Por Porci\\u00f3n\": [\n",
      "        \"0\"\n",
      "    ],\n",
      "    \"Presentaci\\u00f3n/Empaque\": [\n",
      "        \"Caja\"\n",
      "    ],\n",
      "    \"Composici\\u00f3n/Origen\": [\n",
      "        \"100% aceite de sacha inchi extra virgen\"\n",
      "    ],\n",
      "    \"Contenido Neto\": [\n",
      "        \"250ml\"\n",
      "    ],\n",
      "    \"Advertencias De Almacenamiento\": [\n",
      "        \"Mantener en un lugar fresco, seco, alejado de la luz\"\n",
      "    ],\n",
      "    \"Advertencias de consumo\": [\n",
      "        \"Directo o indirecto\"\n",
      "    ],\n",
      "    \"Al\\u00e9rgenos Declarados\": [\n",
      "        \"No tiene\"\n",
      "    ],\n",
      "    \"Grado\": [\n",
      "        \"Alimentario\"\n",
      "    ],\n",
      "    \"Grasas Por Porci\\u00f3n\": [\n",
      "        \"14.0 g\"\n",
      "    ],\n",
      "    \"Az\\u00facares Por Porci\\u00f3n\": [\n",
      "        \"0\"\n",
      "    ],\n",
      "    \"Sodio Por Porci\\u00f3n\": [\n",
      "        \"0\"\n",
      "    ],\n",
      "    \"Prote\\u00ednas Por Porci\\u00f3n\": [\n",
      "        \"0\"\n",
      "    ],\n",
      "    \"Calor\\u00edas Por Porci\\u00f3n\": [\n",
      "        \"126\"\n",
      "    ],\n",
      "    \"Porci\\u00f3n Sugerida\": [\n",
      "        \"15ml\"\n",
      "    ],\n",
      "    \"Especificaciones\": [\n",
      "        \"% De Acidez\",\n",
      "        \"Surtido\",\n",
      "        \"Carbohidratos Por Porci\\u00f3n\",\n",
      "        \"Presentaci\\u00f3n/Empaque\",\n",
      "        \"Composici\\u00f3n/Origen\",\n",
      "        \"Contenido Neto\",\n",
      "        \"Advertencias De Almacenamiento\",\n",
      "        \"Advertencias de consumo\",\n",
      "        \"Al\\u00e9rgenos Declarados\",\n",
      "        \"Grado\",\n",
      "        \"Grasas Por Porci\\u00f3n\",\n",
      "        \"Az\\u00facares Por Porci\\u00f3n\",\n",
      "        \"Sodio Por Porci\\u00f3n\",\n",
      "        \"Prote\\u00ednas Por Porci\\u00f3n\",\n",
      "        \"Calor\\u00edas Por Porci\\u00f3n\",\n",
      "        \"Porci\\u00f3n Sugerida\"\n",
      "    ],\n",
      "    \"allSpecifications\": [\n",
      "        \"% De Acidez\",\n",
      "        \"Surtido\",\n",
      "        \"Carbohidratos Por Porci\\u00f3n\",\n",
      "        \"Presentaci\\u00f3n/Empaque\",\n",
      "        \"Composici\\u00f3n/Origen\",\n",
      "        \"Contenido Neto\",\n",
      "        \"Advertencias De Almacenamiento\",\n",
      "        \"Advertencias de consumo\",\n",
      "        \"Al\\u00e9rgenos Declarados\",\n",
      "        \"Grado\",\n",
      "        \"Grasas Por Porci\\u00f3n\",\n",
      "        \"Az\\u00facares Por Porci\\u00f3n\",\n",
      "        \"Sodio Por Porci\\u00f3n\",\n",
      "        \"Prote\\u00ednas Por Porci\\u00f3n\",\n",
      "        \"Calor\\u00edas Por Porci\\u00f3n\",\n",
      "        \"Porci\\u00f3n Sugerida\"\n",
      "    ],\n",
      "    \"allSpecificationsGroups\": [\n",
      "        \"Especificaciones\"\n",
      "    ],\n",
      "    \"description\": \"\",\n",
      "    \"items\": [\n",
      "        {\n",
      "            \"itemId\": \"11497031\",\n",
      "            \"name\": \"Aceite de Sacha Inchi GATTI Extra Virgen Botella 250ml\",\n",
      "            \"nameComplete\": \"Aceite de Sacha Inchi GATTI Extra Virgen Botella 250ml\",\n",
      "            \"complementName\": \"\",\n",
      "            \"ean\": \"7754842000140\",\n",
      "            \"referenceId\": [\n",
      "                {\n",
      "                    \"Key\": \"RefId\",\n",
      "                    \"Value\": \"20462996\"\n",
      "                }\n",
      "            ],\n",
      "            \"measurementUnit\": \"un\",\n",
      "            \"unitMultiplier\": 1.0,\n",
      "            \"modalType\": null,\n",
      "            \"isKit\": false,\n",
      "            \"images\": [\n",
      "                {\n",
      "                    \"imageId\": \"498978\",\n",
      "                    \"imageLabel\": null,\n",
      "                    \"imageTag\": \"<img src=\\\"~/arquivos/ids/498978-#width#-#height#/20462996.jpg?v=638654167876000000\\\" width=\\\"#width#\\\" height=\\\"#height#\\\" alt=\\\"20462996\\\" id=\\\"\\\" />\",\n",
      "                    \"imageUrl\": \"https://vivanda.vteximg.com.br/arquivos/ids/498978/20462996.jpg?v=638654167876000000\",\n",
      "                    \"imageText\": \"20462996\",\n",
      "                    \"imageLastModified\": \"2024-10-25T01:33:07.6000000Z\"\n",
      "                }\n",
      "            ],\n",
      "            \"sellers\": [\n",
      "                {\n",
      "                    \"sellerId\": \"1\",\n",
      "                    \"sellerName\": \"Vivanda\",\n",
      "                    \"addToCartLink\": \"https://www.vivanda.com.pe/checkout/cart/add?sku=11497031&qty=1&seller=1&sc=1&price=3500&cv=_&sc=1\",\n",
      "                    \"sellerDefault\": true,\n",
      "                    \"commertialOffer\": {\n",
      "                        \"DeliverySlaSamplesPerRegion\": {},\n",
      "                        \"Installments\": [],\n",
      "                        \"DiscountHighLight\": [],\n",
      "                        \"GiftSkuIds\": [],\n",
      "                        \"Teasers\": [],\n",
      "                        \"PromotionTeasers\": [],\n",
      "                        \"BuyTogether\": [],\n",
      "                        \"ItemMetadataAttachment\": [],\n",
      "                        \"Price\": 35.0,\n",
      "                        \"ListPrice\": 35.0,\n",
      "                        \"PriceWithoutDiscount\": 35.0,\n",
      "                        \"FullSellingPrice\": 35.0,\n",
      "                        \"RewardValue\": 0.0,\n",
      "                        \"PriceValidUntil\": \"3000-01-02T00:00:00Z\",\n",
      "                        \"AvailableQuantity\": 0,\n",
      "                        \"IsAvailable\": false,\n",
      "                        \"Tax\": 0.0,\n",
      "                        \"DeliverySlaSamples\": [],\n",
      "                        \"GetInfoErrorMessage\": \"Code: withoutStock | Status:error | Message: El \\u00edtem Aceite de Sacha Inchi GATTI Extra Virgen Botella 250ml no tiene inventario\",\n",
      "                        \"CacheVersionUsedToCallCheckout\": \"_\",\n",
      "                        \"PaymentOptions\": {\n",
      "                            \"installmentOptions\": [],\n",
      "                            \"paymentSystems\": [],\n",
      "                            \"payments\": [],\n",
      "                            \"giftCards\": [],\n",
      "                            \"giftCardMessages\": [],\n",
      "                            \"availableAccounts\": [],\n",
      "                            \"availableTokens\": []\n",
      "                        }\n",
      "                    }\n",
      "                }\n",
      "            ],\n",
      "            \"Videos\": [],\n",
      "            \"estimatedDateArrival\": null\n",
      "        }\n",
      "    ]\n",
      "}\n"
     ]
    }
   ],
   "source": [
    "print(json.dumps(products[3099], indent=4))"
   ]
  },
  {
   "cell_type": "code",
   "execution_count": 14,
   "metadata": {
    "colab": {
     "base_uri": "https://localhost:8080/",
     "height": 391
    },
    "id": "xQp5csl8bDqt",
    "outputId": "fb99ea92-5d25-4b57-f043-c2736497801c"
   },
   "outputs": [],
   "source": [
    "# print(json.dumps(products, indent=4))"
   ]
  },
  {
   "cell_type": "code",
   "execution_count": 15,
   "metadata": {
    "ExecuteTime": {
     "end_time": "2024-10-08T21:00:57.204085Z",
     "start_time": "2024-10-08T21:00:57.200656Z"
    }
   },
   "outputs": [],
   "source": [
    "def print_value(value, key):\n",
    "    if value:\n",
    "        print(f\"{key} = {value}\")\n",
    "    else:\n",
    "        print(f\"{key} = None\")"
   ]
  },
  {
   "cell_type": "code",
   "execution_count": 16,
   "metadata": {
    "ExecuteTime": {
     "end_time": "2024-10-08T21:00:59.689100Z",
     "start_time": "2024-10-08T21:00:59.649128Z"
    }
   },
   "outputs": [],
   "source": [
    "from bs4 import BeautifulSoup\n",
    "\n",
    "def clean_html(html_code):\n",
    "    if html_code is None:\n",
    "        return ''\n",
    "    if isinstance(html_code, list):\n",
    "        html_code = ' '.join(html_code)\n",
    "    soup = BeautifulSoup(html_code, 'html.parser')\n",
    "    return soup.get_text()"
   ]
  },
  {
   "cell_type": "code",
   "execution_count": 17,
   "metadata": {
    "ExecuteTime": {
     "end_time": "2024-10-08T21:01:03.113967Z",
     "start_time": "2024-10-08T21:01:03.106438Z"
    }
   },
   "outputs": [],
   "source": [
    "def get_product_data(product, fecha_db):\n",
    "    product['Created'] = fecha_db\n",
    "    new_product = {}\n",
    "    new_product['productId'] = product.get('productId')\n",
    "    new_product['productName'] = product.get('productName')\n",
    "    new_product['brand'] = product.get('brand')\n",
    "    new_product['brandId'] = product.get('brandId')\n",
    "    new_product['brandImageUrl'] = product.get('brandImageUrl')\n",
    "    new_product['categoryId'] = product.get('categoryId')\n",
    "    new_product['productTitle'] = product.get('productTitle')\n",
    "    new_product['metaTagDescription'] = product.get('metaTagDescription')\n",
    "    new_product['categories'] = product.get('categories')\n",
    "    new_product['categoriesIds'] = product.get('categoriesIds')\n",
    "    new_product['link'] = product.get('link')\n",
    "    new_product['Vendido por'] = product.get('Vendido por')\n",
    "    new_product['Descripción del producto'] = clean_html(product.get('Descripción del producto'))\n",
    "    new_product['Presentación'] = product.get('Presentación')\n",
    "    new_product['Presentación/Empaque'] = product.get('Presentación/Empaque')\n",
    "    new_product['Pack'] = product.get('Pack')\n",
    "    new_product['Porción Sugerida'] = product.get('Porción Sugerida')\n",
    "    new_product['Azúcares Por Porción'] = product.get('Azúcares Por Porción')\n",
    "    new_product['Carbohidratos Por Porción'] = product.get('Carbohidratos Por Porción')\n",
    "    new_product['Descripción Nutricional'] = product.get('Descripción Nutricional')\n",
    "    new_product['Grasas Por Porción'] = product.get('Grasas Por Porción')\n",
    "    new_product['Advertencias de consumo'] = product.get('Advertencias de consumo')\n",
    "    \n",
    "    if product['items']:\n",
    "        new_product['itemId'] = product['items'][0].get('itemId', None)\n",
    "        new_product['ean'] = product['items'][0].get('ean', None)\n",
    "        if product['items'][0]['images']:\n",
    "            new_product['imageUrl'] = product['items'][0]['images'][0].get('imageUrl', None)\n",
    "            if product['items'][0]['sellers']:\n",
    "                commertial_offer = product['items'][0]['sellers'][0].get('commertialOffer', {})\n",
    "                if commertial_offer.get('Installments'):\n",
    "                    new_product['Value'] = commertial_offer['Installments'][0].get('Value', None)\n",
    "                new_product['IsAvailable'] = commertial_offer.get('IsAvailable', None)\n",
    "                new_product['AvailableQuantity'] = commertial_offer.get('AvailableQuantity', None)\n",
    "                new_product['Price'] = commertial_offer.get('Price', None)\n",
    "                new_product['ListPrice'] = commertial_offer.get('ListPrice', None)\n",
    "                new_product['PriceWithoutDiscount'] = commertial_offer.get('PriceWithoutDiscount', None)\n",
    "                new_product['PriceValidUntil'] = commertial_offer.get('PriceValidUntil', None)\n",
    "\n",
    "    new_product['Created'] = product['Created']\n",
    "    \n",
    "    return new_product"
   ]
  },
  {
   "cell_type": "code",
   "execution_count": 18,
   "metadata": {
    "ExecuteTime": {
     "end_time": "2024-10-08T21:01:11.584450Z",
     "start_time": "2024-10-08T21:01:11.573766Z"
    }
   },
   "outputs": [
    {
     "name": "stdout",
     "output_type": "stream",
     "text": [
      "productId = 100215830\n",
      "productName = Nectar Naranja ECOFRESH Botella 3.8L\n",
      "brand = ECOFRESH\n",
      "brandId = 72216\n",
      "brandImageUrl = None\n",
      "categoryId = 1672\n",
      "productTitle = Nectar Naranja ECOFRESH Botella 3.8L | Vivanda\n",
      "metaTagDescription = ¡Compra online Nectar Naranja ECOFRESH Botella 3.8L al mejor precio en vivanda.com.pe desde donde estés!\n",
      "categories = ['/Frutas y Verduras/Frutas/Jugos Naturales/', '/Frutas y Verduras/Frutas/', '/Frutas y Verduras/']\n",
      "categoriesIds = ['/11/24/1672/', '/11/24/', '/11/']\n",
      "link = https://www.vivanda.com.pe/jugo-nectar-de-naranja-ecofresh-botella-3-8l/p\n",
      "Vendido por = None\n",
      "Descripción del producto = None\n",
      "Presentación = None\n",
      "Presentación/Empaque = ['Botella']\n",
      "Pack = None\n",
      "Porción Sugerida = None\n",
      "Azúcares Por Porción = None\n",
      "Carbohidratos Por Porción = None\n",
      "Descripción Nutricional = None\n",
      "Grasas Por Porción = None\n",
      "Advertencias de consumo = None\n",
      "itemId = 10338138\n",
      "ean = 7752705002379\n",
      "imageUrl = https://vivanda.vteximg.com.br/arquivos/ids/410323/20237284.jpg?v=638025870212830000\n",
      "Value = 35.39\n",
      "IsAvailable = True\n",
      "AvailableQuantity = 100\n",
      "Price = 35.39\n",
      "ListPrice = 35.39\n",
      "PriceWithoutDiscount = 35.39\n",
      "PriceValidUntil = 3000-01-02T05:00:00Z\n",
      "Created = 2024-11-13 14:50:07\n",
      "productId = 100215831\n",
      "productName = Nectar Tropical ECOFRESH Botella 3.8L\n",
      "brand = ECOFRESH\n",
      "brandId = 72216\n",
      "brandImageUrl = None\n",
      "categoryId = 1672\n",
      "productTitle = Nectar Tropical ECOFRESH Botella 3.8L | Vivanda\n",
      "metaTagDescription = ¡Compra online Nectar Tropical ECOFRESH Botella 3.8L al mejor precio en vivanda.com.pe desde donde estés!\n",
      "categories = ['/Frutas y Verduras/Frutas/Jugos Naturales/', '/Frutas y Verduras/Frutas/', '/Frutas y Verduras/']\n",
      "categoriesIds = ['/11/24/1672/', '/11/24/', '/11/']\n",
      "link = https://www.vivanda.com.pe/jugo-nectar-tropical-ecofresh-botella-3-8l/p\n",
      "Vendido por = None\n",
      "Descripción del producto = None\n",
      "Presentación = None\n",
      "Presentación/Empaque = ['Botella']\n",
      "Pack = None\n",
      "Porción Sugerida = None\n",
      "Azúcares Por Porción = None\n",
      "Carbohidratos Por Porción = None\n",
      "Descripción Nutricional = None\n",
      "Grasas Por Porción = None\n",
      "Advertencias de consumo = None\n",
      "itemId = 10338139\n",
      "ean = 7752705002386\n",
      "imageUrl = https://vivanda.vteximg.com.br/arquivos/ids/410324/20238323.jpg?v=638025870242570000\n",
      "Value = 34.99\n",
      "IsAvailable = True\n",
      "AvailableQuantity = 10\n",
      "Price = 34.99\n",
      "ListPrice = 34.99\n",
      "PriceWithoutDiscount = 34.99\n",
      "PriceValidUntil = 3000-01-02T00:00:00Z\n",
      "Created = 2024-11-13 14:50:07\n",
      "productId = 11033\n",
      "productName = Frambuesa Entera GREEN FOOD Bolsa 400g\n",
      "brand = GREEN FOOD\n",
      "brandId = 57045\n",
      "brandImageUrl = None\n",
      "categoryId = 25\n",
      "productTitle = Frambuesa Entera GREEN FOOD Bolsa 400g | Vivanda\n",
      "metaTagDescription = ¡Compra online Frambuesa Entera GREEN FOOD Bolsa 400g al mejor precio en vivanda.com.pe desde donde estés!\n",
      "categories = ['/Frutas y Verduras/Frutas/Frutas Congeladas/', '/Frutas y Verduras/Frutas/', '/Frutas y Verduras/']\n",
      "categoriesIds = ['/11/24/25/', '/11/24/', '/11/']\n",
      "link = https://www.vivanda.com.pe/frambuesa-entera-green-food-bolsa-400g/p\n",
      "Vendido por = None\n",
      "Descripción del producto = None\n",
      "Presentación = None\n",
      "Presentación/Empaque = None\n",
      "Pack = None\n",
      "Porción Sugerida = None\n",
      "Azúcares Por Porción = None\n",
      "Carbohidratos Por Porción = None\n",
      "Descripción Nutricional = None\n",
      "Grasas Por Porción = None\n",
      "Advertencias de consumo = None\n",
      "itemId = 11027\n",
      "ean = None\n",
      "imageUrl = https://vivanda.vteximg.com.br/arquivos/ids/405668/20109214.jpg?v=638017632551670000\n",
      "Value = 31.3\n",
      "IsAvailable = True\n",
      "AvailableQuantity = 100\n",
      "Price = 31.3\n",
      "ListPrice = 31.3\n",
      "PriceWithoutDiscount = 31.3\n",
      "PriceValidUntil = 3000-01-02T00:00:00Z\n",
      "Created = 2024-11-13 14:50:07\n"
     ]
    }
   ],
   "source": [
    "# Para validar que los datos se están extrayendo correctamente\n",
    "\n",
    "i = 0\n",
    "for product in products:\n",
    "    i += 1\n",
    "    product['Created'] = fecha_hora_lima_db()\n",
    "    print_value(product.get('productId'), 'productId')\n",
    "    print_value(product.get('productName'), 'productName')\n",
    "    print_value(product.get('brand'), 'brand')\n",
    "    print_value(product.get('brandId'), 'brandId')\n",
    "    print_value(product.get('brandImageUrl'), 'brandImageUrl')\n",
    "    print_value(product.get('categoryId'), 'categoryId')\n",
    "    print_value(product.get('productTitle'), 'productTitle')\n",
    "    print_value(product.get('metaTagDescription'), 'metaTagDescription')\n",
    "    print_value(product.get('categories'), 'categories')\n",
    "    print_value(product.get('categoriesIds'), 'categoriesIds')\n",
    "    print_value(product.get('link'), 'link')\n",
    "    print_value(product.get('Vendido por'), 'Vendido por')\n",
    "    print_value(clean_html(product.get('Descripción del producto')), 'Descripción del producto')\n",
    "    print_value(product.get('Presentación'), 'Presentación')\n",
    "    print_value(product.get('Presentación/Empaque'), 'Presentación/Empaque')\n",
    "    print_value(product.get('Pack'), 'Pack')\n",
    "    print_value(product.get('Porción Sugerida'), 'Porción Sugerida')\n",
    "    print_value(product.get('Azúcares Por Porción'), 'Azúcares Por Porción')\n",
    "    print_value(product.get('Carbohidratos Por Porción'), 'Carbohidratos Por Porción')\n",
    "    print_value(product.get('Descripción Nutricional'), 'Descripción Nutricional')\n",
    "    print_value(product.get('Grasas Por Porción'), 'Grasas Por Porción')\n",
    "    print_value(product.get('Advertencias de consumo'), 'Advertencias de consumo')\n",
    "    print_value(product['items'][0]['itemId'], 'itemId')\n",
    "    print_value(product['items'][0]['ean'], 'ean')\n",
    "    print_value(product['items'][0]['images'][0]['imageUrl'], 'imageUrl')\n",
    "    print_value(product['items'][0]['sellers'][0]['commertialOffer']['Installments'][0]['Value'], 'Value')\n",
    "    print_value(product['items'][0]['sellers'][0]['commertialOffer']['IsAvailable'], 'IsAvailable')\n",
    "    print_value(product['items'][0]['sellers'][0]['commertialOffer']['AvailableQuantity'], 'AvailableQuantity')\n",
    "    print_value(product['items'][0]['sellers'][0]['commertialOffer']['Price'], 'Price')\n",
    "    print_value(product['items'][0]['sellers'][0]['commertialOffer']['ListPrice'], 'ListPrice')\n",
    "    print_value(product['items'][0]['sellers'][0]['commertialOffer']['PriceWithoutDiscount'], 'PriceWithoutDiscount')\n",
    "    print_value(product['items'][0]['sellers'][0]['commertialOffer']['PriceValidUntil'], 'PriceValidUntil')\n",
    "    print_value(product['Created'], 'Created')\n",
    "    \n",
    "    if i == 3:\n",
    "        break"
   ]
  },
  {
   "cell_type": "code",
   "execution_count": 19,
   "metadata": {
    "ExecuteTime": {
     "end_time": "2024-10-08T21:13:23.368298Z",
     "start_time": "2024-10-08T21:01:21.894892Z"
    },
    "colab": {
     "base_uri": "https://localhost:8080/",
     "height": 221
    },
    "id": "ywPf1QLp4szi",
    "outputId": "9089c06c-140e-4c56-a42d-de5aa871669e"
   },
   "outputs": [],
   "source": [
    "for product in products:\n",
    "  new_product = get_product_data(product, fecha_hora_para_base_de_datos)\n",
    "  df.loc[len(df)] = new_product"
   ]
  },
  {
   "cell_type": "code",
   "execution_count": 20,
   "metadata": {
    "ExecuteTime": {
     "end_time": "2024-10-08T21:14:22.531722Z",
     "start_time": "2024-10-08T21:14:22.516804Z"
    }
   },
   "outputs": [
    {
     "data": {
      "text/html": [
       "<div>\n",
       "<style scoped>\n",
       "    .dataframe tbody tr th:only-of-type {\n",
       "        vertical-align: middle;\n",
       "    }\n",
       "\n",
       "    .dataframe tbody tr th {\n",
       "        vertical-align: top;\n",
       "    }\n",
       "\n",
       "    .dataframe thead th {\n",
       "        text-align: right;\n",
       "    }\n",
       "</style>\n",
       "<table border=\"1\" class=\"dataframe\">\n",
       "  <thead>\n",
       "    <tr style=\"text-align: right;\">\n",
       "      <th></th>\n",
       "      <th>productId</th>\n",
       "      <th>productName</th>\n",
       "      <th>brand</th>\n",
       "      <th>brandId</th>\n",
       "      <th>brandImageUrl</th>\n",
       "      <th>categoryId</th>\n",
       "      <th>productTitle</th>\n",
       "      <th>metaTagDescription</th>\n",
       "      <th>categories</th>\n",
       "      <th>categoriesIds</th>\n",
       "      <th>...</th>\n",
       "      <th>ean</th>\n",
       "      <th>imageUrl</th>\n",
       "      <th>Value</th>\n",
       "      <th>IsAvailable</th>\n",
       "      <th>AvailableQuantity</th>\n",
       "      <th>Price</th>\n",
       "      <th>ListPrice</th>\n",
       "      <th>PriceWithoutDiscount</th>\n",
       "      <th>PriceValidUntil</th>\n",
       "      <th>Created</th>\n",
       "    </tr>\n",
       "  </thead>\n",
       "  <tbody>\n",
       "    <tr>\n",
       "      <th>11208</th>\n",
       "      <td>100216796</td>\n",
       "      <td>Juego de Pets KAILE ZHI K-1011 Surtido</td>\n",
       "      <td>KAILE ZHI</td>\n",
       "      <td>36364417</td>\n",
       "      <td>None</td>\n",
       "      <td>1386</td>\n",
       "      <td>Juego de Pets KAILE ZHI K-1011 Surtido | Vivanda</td>\n",
       "      <td>¡Compra online Juego de Pets KAILE ZHI K-1011 ...</td>\n",
       "      <td>[/Juguetes y Juegos/Juguetería/Otros Juguetes ...</td>\n",
       "      <td>[/999/1058/1386/, /999/1058/, /999/]</td>\n",
       "      <td>...</td>\n",
       "      <td>2200202623085</td>\n",
       "      <td>https://vivanda.vteximg.com.br/arquivos/ids/41...</td>\n",
       "      <td>NaN</td>\n",
       "      <td>False</td>\n",
       "      <td>0</td>\n",
       "      <td>0.0</td>\n",
       "      <td>0.0</td>\n",
       "      <td>0.0</td>\n",
       "      <td>None</td>\n",
       "      <td>2024-11-13 14:40:12</td>\n",
       "    </tr>\n",
       "    <tr>\n",
       "      <th>6285</th>\n",
       "      <td>47642</td>\n",
       "      <td>Set de Tápers VIVA HOME Plastico 7un</td>\n",
       "      <td>VIVA HOME</td>\n",
       "      <td>72384</td>\n",
       "      <td>None</td>\n",
       "      <td>1225</td>\n",
       "      <td>Set de Tápers VIVA HOME Plastico 7un | Vivanda</td>\n",
       "      <td>¡Compra online Set de Tápers VIVA HOME Plastic...</td>\n",
       "      <td>[/Decohogar/Menaje de Cocina/Tapers y Contened...</td>\n",
       "      <td>[/22/1029/1225/, /22/1029/, /22/]</td>\n",
       "      <td>...</td>\n",
       "      <td>2200000194503</td>\n",
       "      <td>https://vivanda.vteximg.com.br/arquivos/ids/21...</td>\n",
       "      <td>22.9</td>\n",
       "      <td>True</td>\n",
       "      <td>99999</td>\n",
       "      <td>22.9</td>\n",
       "      <td>22.9</td>\n",
       "      <td>22.9</td>\n",
       "      <td>3000-01-02T00:00:00Z</td>\n",
       "      <td>2024-11-13 14:40:12</td>\n",
       "    </tr>\n",
       "    <tr>\n",
       "      <th>8593</th>\n",
       "      <td>100216488</td>\n",
       "      <td>Biberón Natural PHILIPS AVENT 125ML</td>\n",
       "      <td>PHILIPS AVENT</td>\n",
       "      <td>36364747</td>\n",
       "      <td>None</td>\n",
       "      <td>1108</td>\n",
       "      <td>Biberón Natural PHILIPS AVENT 125ML | Vivanda</td>\n",
       "      <td>¡Compra online Biberón Natural PHILIPS AVENT 1...</td>\n",
       "      <td>[/Bebé e Infantil/Alimentación del Bebé/Bibero...</td>\n",
       "      <td>[/993/1005/1108/, /993/1005/, /993/]</td>\n",
       "      <td>...</td>\n",
       "      <td>8710103875666</td>\n",
       "      <td>https://vivanda.vteximg.com.br/arquivos/ids/40...</td>\n",
       "      <td>NaN</td>\n",
       "      <td>False</td>\n",
       "      <td>0</td>\n",
       "      <td>0.0</td>\n",
       "      <td>0.0</td>\n",
       "      <td>0.0</td>\n",
       "      <td>None</td>\n",
       "      <td>2024-11-13 14:40:12</td>\n",
       "    </tr>\n",
       "    <tr>\n",
       "      <th>2013</th>\n",
       "      <td>30151</td>\n",
       "      <td>Salsa DELGA-C César Libre de Grasa Botella 443ml</td>\n",
       "      <td>DELGA-C</td>\n",
       "      <td>28260806</td>\n",
       "      <td>None</td>\n",
       "      <td>280</td>\n",
       "      <td>Salsa DELGA-C César Libre de Grasa Botella 443...</td>\n",
       "      <td>¡Compra online Salsa DELGA-C César Libre de Gr...</td>\n",
       "      <td>[/Abarrotes/Salsas, Cremas y Condimentos/Aliño...</td>\n",
       "      <td>[/17/64/280/, /17/64/, /17/]</td>\n",
       "      <td>...</td>\n",
       "      <td>746242350441</td>\n",
       "      <td>https://vivanda.vteximg.com.br/arquivos/ids/38...</td>\n",
       "      <td>11.9</td>\n",
       "      <td>True</td>\n",
       "      <td>100</td>\n",
       "      <td>11.9</td>\n",
       "      <td>11.9</td>\n",
       "      <td>11.9</td>\n",
       "      <td>3000-01-02T00:00:00Z</td>\n",
       "      <td>2024-11-13 14:40:12</td>\n",
       "    </tr>\n",
       "    <tr>\n",
       "      <th>5720</th>\n",
       "      <td>32830</td>\n",
       "      <td>Tenedores Descartables DARNEL Blanco Paquete 20un</td>\n",
       "      <td>DARNELL PERU</td>\n",
       "      <td>72027</td>\n",
       "      <td>None</td>\n",
       "      <td>410</td>\n",
       "      <td>Tenedores Descartables DARNEL Blanco Paquete 2...</td>\n",
       "      <td>¡Compra Online Tenedores Descartables DARNEL B...</td>\n",
       "      <td>[/Limpieza/Limpieza de Cocina/Menaje, Utensili...</td>\n",
       "      <td>[/21/97/410/, /21/97/, /21/]</td>\n",
       "      <td>...</td>\n",
       "      <td>645667176585</td>\n",
       "      <td>https://vivanda.vteximg.com.br/arquivos/ids/42...</td>\n",
       "      <td>3.9</td>\n",
       "      <td>True</td>\n",
       "      <td>100</td>\n",
       "      <td>3.9</td>\n",
       "      <td>3.9</td>\n",
       "      <td>3.9</td>\n",
       "      <td>3000-01-02T05:00:00Z</td>\n",
       "      <td>2024-11-13 14:40:12</td>\n",
       "    </tr>\n",
       "  </tbody>\n",
       "</table>\n",
       "<p>5 rows × 33 columns</p>\n",
       "</div>"
      ],
      "text/plain": [
       "       productId                                        productName  \\\n",
       "11208  100216796             Juego de Pets KAILE ZHI K-1011 Surtido   \n",
       "6285       47642               Set de Tápers VIVA HOME Plastico 7un   \n",
       "8593   100216488                Biberón Natural PHILIPS AVENT 125ML   \n",
       "2013       30151   Salsa DELGA-C César Libre de Grasa Botella 443ml   \n",
       "5720       32830  Tenedores Descartables DARNEL Blanco Paquete 20un   \n",
       "\n",
       "               brand   brandId brandImageUrl categoryId  \\\n",
       "11208      KAILE ZHI  36364417          None       1386   \n",
       "6285       VIVA HOME     72384          None       1225   \n",
       "8593   PHILIPS AVENT  36364747          None       1108   \n",
       "2013         DELGA-C  28260806          None        280   \n",
       "5720    DARNELL PERU     72027          None        410   \n",
       "\n",
       "                                            productTitle  \\\n",
       "11208   Juego de Pets KAILE ZHI K-1011 Surtido | Vivanda   \n",
       "6285      Set de Tápers VIVA HOME Plastico 7un | Vivanda   \n",
       "8593       Biberón Natural PHILIPS AVENT 125ML | Vivanda   \n",
       "2013   Salsa DELGA-C César Libre de Grasa Botella 443...   \n",
       "5720   Tenedores Descartables DARNEL Blanco Paquete 2...   \n",
       "\n",
       "                                      metaTagDescription  \\\n",
       "11208  ¡Compra online Juego de Pets KAILE ZHI K-1011 ...   \n",
       "6285   ¡Compra online Set de Tápers VIVA HOME Plastic...   \n",
       "8593   ¡Compra online Biberón Natural PHILIPS AVENT 1...   \n",
       "2013   ¡Compra online Salsa DELGA-C César Libre de Gr...   \n",
       "5720   ¡Compra Online Tenedores Descartables DARNEL B...   \n",
       "\n",
       "                                              categories  \\\n",
       "11208  [/Juguetes y Juegos/Juguetería/Otros Juguetes ...   \n",
       "6285   [/Decohogar/Menaje de Cocina/Tapers y Contened...   \n",
       "8593   [/Bebé e Infantil/Alimentación del Bebé/Bibero...   \n",
       "2013   [/Abarrotes/Salsas, Cremas y Condimentos/Aliño...   \n",
       "5720   [/Limpieza/Limpieza de Cocina/Menaje, Utensili...   \n",
       "\n",
       "                              categoriesIds  ...            ean  \\\n",
       "11208  [/999/1058/1386/, /999/1058/, /999/]  ...  2200202623085   \n",
       "6285      [/22/1029/1225/, /22/1029/, /22/]  ...  2200000194503   \n",
       "8593   [/993/1005/1108/, /993/1005/, /993/]  ...  8710103875666   \n",
       "2013           [/17/64/280/, /17/64/, /17/]  ...   746242350441   \n",
       "5720           [/21/97/410/, /21/97/, /21/]  ...   645667176585   \n",
       "\n",
       "                                                imageUrl Value IsAvailable  \\\n",
       "11208  https://vivanda.vteximg.com.br/arquivos/ids/41...   NaN       False   \n",
       "6285   https://vivanda.vteximg.com.br/arquivos/ids/21...  22.9        True   \n",
       "8593   https://vivanda.vteximg.com.br/arquivos/ids/40...   NaN       False   \n",
       "2013   https://vivanda.vteximg.com.br/arquivos/ids/38...  11.9        True   \n",
       "5720   https://vivanda.vteximg.com.br/arquivos/ids/42...   3.9        True   \n",
       "\n",
       "      AvailableQuantity Price ListPrice PriceWithoutDiscount  \\\n",
       "11208                 0   0.0       0.0                  0.0   \n",
       "6285              99999  22.9      22.9                 22.9   \n",
       "8593                  0   0.0       0.0                  0.0   \n",
       "2013                100  11.9      11.9                 11.9   \n",
       "5720                100   3.9       3.9                  3.9   \n",
       "\n",
       "            PriceValidUntil              Created  \n",
       "11208                  None  2024-11-13 14:40:12  \n",
       "6285   3000-01-02T00:00:00Z  2024-11-13 14:40:12  \n",
       "8593                   None  2024-11-13 14:40:12  \n",
       "2013   3000-01-02T00:00:00Z  2024-11-13 14:40:12  \n",
       "5720   3000-01-02T05:00:00Z  2024-11-13 14:40:12  \n",
       "\n",
       "[5 rows x 33 columns]"
      ]
     },
     "execution_count": 20,
     "metadata": {},
     "output_type": "execute_result"
    }
   ],
   "source": [
    "df.sample(n=5)"
   ]
  },
  {
   "cell_type": "code",
   "execution_count": 21,
   "metadata": {
    "ExecuteTime": {
     "end_time": "2024-10-08T22:51:39.668058Z",
     "start_time": "2024-10-08T22:51:39.639907Z"
    }
   },
   "outputs": [
    {
     "data": {
      "text/html": [
       "<div>\n",
       "<style scoped>\n",
       "    .dataframe tbody tr th:only-of-type {\n",
       "        vertical-align: middle;\n",
       "    }\n",
       "\n",
       "    .dataframe tbody tr th {\n",
       "        vertical-align: top;\n",
       "    }\n",
       "\n",
       "    .dataframe thead th {\n",
       "        text-align: right;\n",
       "    }\n",
       "</style>\n",
       "<table border=\"1\" class=\"dataframe\">\n",
       "  <thead>\n",
       "    <tr style=\"text-align: right;\">\n",
       "      <th></th>\n",
       "      <th>productId</th>\n",
       "      <th>productName</th>\n",
       "      <th>brand</th>\n",
       "      <th>categoryId</th>\n",
       "      <th>link</th>\n",
       "      <th>Price</th>\n",
       "      <th>AvailableQuantity</th>\n",
       "    </tr>\n",
       "  </thead>\n",
       "  <tbody>\n",
       "    <tr>\n",
       "      <th>3289</th>\n",
       "      <td>37323</td>\n",
       "      <td>Ketchup LIBBY'S Doypack 380g</td>\n",
       "      <td>LIBBY S</td>\n",
       "      <td>283</td>\n",
       "      <td>https://www.vivanda.com.pe/ketchup-libbys-doyp...</td>\n",
       "      <td>9.6</td>\n",
       "      <td>0</td>\n",
       "    </tr>\n",
       "    <tr>\n",
       "      <th>12769</th>\n",
       "      <td>100540526</td>\n",
       "      <td>Gin HENDRICK'S Flora Adora Botella 700ml</td>\n",
       "      <td>HENDRICK´S</td>\n",
       "      <td>1763</td>\n",
       "      <td>https://www.vivanda.com.pe/gin-hendricks-flora...</td>\n",
       "      <td>134.9</td>\n",
       "      <td>100</td>\n",
       "    </tr>\n",
       "    <tr>\n",
       "      <th>7738</th>\n",
       "      <td>46003</td>\n",
       "      <td>Comida para Perros DOG CHOW Adultos Cena de Ca...</td>\n",
       "      <td>DOG CHOW</td>\n",
       "      <td>1694</td>\n",
       "      <td>https://www.vivanda.com.pe/comida-para-perros-...</td>\n",
       "      <td>4.9</td>\n",
       "      <td>100</td>\n",
       "    </tr>\n",
       "    <tr>\n",
       "      <th>4191</th>\n",
       "      <td>100087044</td>\n",
       "      <td>Serum GARNIER Express Aclara Frasco 30ml</td>\n",
       "      <td>GARNIER</td>\n",
       "      <td>362</td>\n",
       "      <td>https://www.vivanda.com.pe/serum-garnier-expre...</td>\n",
       "      <td>65.9</td>\n",
       "      <td>100</td>\n",
       "    </tr>\n",
       "    <tr>\n",
       "      <th>8209</th>\n",
       "      <td>100984129</td>\n",
       "      <td>Pañal Super Premium BABYSEC Talla XG Paquete 60un</td>\n",
       "      <td>BABYSEC</td>\n",
       "      <td>1138</td>\n",
       "      <td>https://www.vivanda.com.pe/panal-super-premium...</td>\n",
       "      <td>58.9</td>\n",
       "      <td>10</td>\n",
       "    </tr>\n",
       "    <tr>\n",
       "      <th>2602</th>\n",
       "      <td>100086584</td>\n",
       "      <td>Lentejas BELL'S Bolsa 500g</td>\n",
       "      <td>BELL'S</td>\n",
       "      <td>310</td>\n",
       "      <td>https://www.vivanda.com.pe/lentejas-bells-bols...</td>\n",
       "      <td>5.5</td>\n",
       "      <td>100</td>\n",
       "    </tr>\n",
       "    <tr>\n",
       "      <th>9018</th>\n",
       "      <td>37367</td>\n",
       "      <td>Vaso de Transición sin Boquilla DR. BROWN´S Ch...</td>\n",
       "      <td>DR. BROWN´S</td>\n",
       "      <td>1108</td>\n",
       "      <td>https://www.vivanda.com.pe/vaso-de-transicion-...</td>\n",
       "      <td>0.0</td>\n",
       "      <td>0</td>\n",
       "    </tr>\n",
       "    <tr>\n",
       "      <th>9548</th>\n",
       "      <td>4781</td>\n",
       "      <td>Infusiones WAWASANA Té verde limón Caja 20Un</td>\n",
       "      <td>WAWASANA</td>\n",
       "      <td>1294</td>\n",
       "      <td>https://www.vivanda.com.pe/infusiones-wawasana...</td>\n",
       "      <td>9.6</td>\n",
       "      <td>10</td>\n",
       "    </tr>\n",
       "  </tbody>\n",
       "</table>\n",
       "</div>"
      ],
      "text/plain": [
       "       productId                                        productName  \\\n",
       "3289       37323                       Ketchup LIBBY'S Doypack 380g   \n",
       "12769  100540526           Gin HENDRICK'S Flora Adora Botella 700ml   \n",
       "7738       46003  Comida para Perros DOG CHOW Adultos Cena de Ca...   \n",
       "4191   100087044           Serum GARNIER Express Aclara Frasco 30ml   \n",
       "8209   100984129  Pañal Super Premium BABYSEC Talla XG Paquete 60un   \n",
       "2602   100086584                         Lentejas BELL'S Bolsa 500g   \n",
       "9018       37367  Vaso de Transición sin Boquilla DR. BROWN´S Ch...   \n",
       "9548        4781       Infusiones WAWASANA Té verde limón Caja 20Un   \n",
       "\n",
       "             brand categoryId  \\\n",
       "3289       LIBBY S        283   \n",
       "12769   HENDRICK´S       1763   \n",
       "7738      DOG CHOW       1694   \n",
       "4191       GARNIER        362   \n",
       "8209       BABYSEC       1138   \n",
       "2602        BELL'S        310   \n",
       "9018   DR. BROWN´S       1108   \n",
       "9548      WAWASANA       1294   \n",
       "\n",
       "                                                    link  Price  \\\n",
       "3289   https://www.vivanda.com.pe/ketchup-libbys-doyp...    9.6   \n",
       "12769  https://www.vivanda.com.pe/gin-hendricks-flora...  134.9   \n",
       "7738   https://www.vivanda.com.pe/comida-para-perros-...    4.9   \n",
       "4191   https://www.vivanda.com.pe/serum-garnier-expre...   65.9   \n",
       "8209   https://www.vivanda.com.pe/panal-super-premium...   58.9   \n",
       "2602   https://www.vivanda.com.pe/lentejas-bells-bols...    5.5   \n",
       "9018   https://www.vivanda.com.pe/vaso-de-transicion-...    0.0   \n",
       "9548   https://www.vivanda.com.pe/infusiones-wawasana...    9.6   \n",
       "\n",
       "       AvailableQuantity  \n",
       "3289                   0  \n",
       "12769                100  \n",
       "7738                 100  \n",
       "4191                 100  \n",
       "8209                  10  \n",
       "2602                 100  \n",
       "9018                   0  \n",
       "9548                  10  "
      ]
     },
     "execution_count": 21,
     "metadata": {},
     "output_type": "execute_result"
    }
   ],
   "source": [
    "df[['productId', 'productName', 'brand', 'categoryId', 'link', 'Price', 'AvailableQuantity']].sample(n=8)"
   ]
  },
  {
   "cell_type": "code",
   "execution_count": 22,
   "metadata": {
    "ExecuteTime": {
     "end_time": "2024-10-08T22:51:13.185289Z",
     "start_time": "2024-10-08T22:51:13.077001Z"
    }
   },
   "outputs": [
    {
     "name": "stdout",
     "output_type": "stream",
     "text": [
      "<class 'pandas.core.frame.DataFrame'>\n",
      "Index: 13829 entries, 0 to 13828\n",
      "Data columns (total 33 columns):\n",
      " #   Column                     Non-Null Count  Dtype  \n",
      "---  ------                     --------------  -----  \n",
      " 0   productId                  13829 non-null  object \n",
      " 1   productName                13829 non-null  object \n",
      " 2   brand                      13829 non-null  object \n",
      " 3   brandId                    13829 non-null  int64  \n",
      " 4   brandImageUrl              0 non-null      object \n",
      " 5   categoryId                 13829 non-null  object \n",
      " 6   productTitle               13829 non-null  object \n",
      " 7   metaTagDescription         13829 non-null  object \n",
      " 8   categories                 13829 non-null  object \n",
      " 9   categoriesIds              13829 non-null  object \n",
      " 10  link                       13829 non-null  object \n",
      " 11  Vendido por                0 non-null      object \n",
      " 12  Descripción del producto   13829 non-null  object \n",
      " 13  Presentación               87 non-null     object \n",
      " 14  Presentación/Empaque       3262 non-null   object \n",
      " 15  Pack                       52 non-null     object \n",
      " 16  Porción Sugerida           1564 non-null   object \n",
      " 17  Azúcares Por Porción       1793 non-null   object \n",
      " 18  Carbohidratos Por Porción  1849 non-null   object \n",
      " 19  Descripción Nutricional    868 non-null    object \n",
      " 20  Grasas Por Porción         1425 non-null   object \n",
      " 21  Advertencias de consumo    1570 non-null   object \n",
      " 22  itemId                     13829 non-null  object \n",
      " 23  ean                        13829 non-null  object \n",
      " 24  imageUrl                   13829 non-null  object \n",
      " 25  Value                      9273 non-null   float64\n",
      " 26  IsAvailable                13829 non-null  bool   \n",
      " 27  AvailableQuantity          13829 non-null  int64  \n",
      " 28  Price                      13829 non-null  float64\n",
      " 29  ListPrice                  13829 non-null  float64\n",
      " 30  PriceWithoutDiscount       13829 non-null  float64\n",
      " 31  PriceValidUntil            12084 non-null  object \n",
      " 32  Created                    13829 non-null  object \n",
      "dtypes: bool(1), float64(4), int64(2), object(26)\n",
      "memory usage: 3.5+ MB\n"
     ]
    }
   ],
   "source": [
    "df.info()"
   ]
  },
  {
   "cell_type": "code",
   "execution_count": 23,
   "metadata": {
    "ExecuteTime": {
     "end_time": "2024-10-08T22:59:19.938710Z",
     "start_time": "2024-10-08T22:59:19.913917Z"
    }
   },
   "outputs": [],
   "source": [
    "df['product_uri_json'] = df['productId'].apply(lambda x: f'https://www.vivanda.com.pe/api/catalog_system/pub/products/search?fq=productId:{x}')"
   ]
  },
  {
   "cell_type": "code",
   "execution_count": 24,
   "metadata": {
    "ExecuteTime": {
     "end_time": "2024-10-08T22:59:24.363457Z",
     "start_time": "2024-10-08T22:59:24.357720Z"
    }
   },
   "outputs": [
    {
     "data": {
      "text/plain": [
       "11508    https://www.vivanda.com.pe/api/catalog_system/...\n",
       "7997     https://www.vivanda.com.pe/api/catalog_system/...\n",
       "13443    https://www.vivanda.com.pe/api/catalog_system/...\n",
       "234      https://www.vivanda.com.pe/api/catalog_system/...\n",
       "11929    https://www.vivanda.com.pe/api/catalog_system/...\n",
       "Name: product_uri_json, dtype: object"
      ]
     },
     "execution_count": 24,
     "metadata": {},
     "output_type": "execute_result"
    }
   ],
   "source": [
    "df['product_uri_json'].sample(n=5)"
   ]
  },
  {
   "cell_type": "code",
   "execution_count": 25,
   "metadata": {
    "ExecuteTime": {
     "end_time": "2024-10-08T23:03:09.368385Z",
     "start_time": "2024-10-08T23:03:08.208667Z"
    }
   },
   "outputs": [],
   "source": [
    "file_name_productos_csv = f'productos_{fecha_hora_para_archivos}.csv'\n",
    "df.to_csv(file_name_productos_csv, index=False)"
   ]
  },
  {
   "cell_type": "code",
   "execution_count": 26,
   "metadata": {
    "ExecuteTime": {
     "end_time": "2024-10-08T23:05:38.371053Z",
     "start_time": "2024-10-08T23:05:38.364958Z"
    }
   },
   "outputs": [
    {
     "data": {
      "text/plain": [
       "productId                                                                43539\n",
       "productName                  Lápices de Grafito ARTESCO FantaYESa 2B Paquet...\n",
       "brand                                                                  ARTESCO\n",
       "brandId                                                               10000001\n",
       "brandImageUrl                                                             None\n",
       "categoryId                                                                1423\n",
       "productTitle                 Lápices de Grafito ARTESCO FantaYESa 2B Paquet...\n",
       "metaTagDescription           ¡Compra online Lápices de Grafito ARTESCO Fant...\n",
       "categories                   [/Librería y Oficina/Utiles Escolares y de Ofi...\n",
       "categoriesIds                          [/1000/1063/1423/, /1000/1063/, /1000/]\n",
       "link                         https://www.vivanda.com.pe/lapices-de-grafito-...\n",
       "Vendido por                                                               None\n",
       "Descripción del producto                                                      \n",
       "Presentación                                                              None\n",
       "Presentación/Empaque                                                      None\n",
       "Pack                                                                      None\n",
       "Porción Sugerida                                                          None\n",
       "Azúcares Por Porción                                                      None\n",
       "Carbohidratos Por Porción                                                 None\n",
       "Descripción Nutricional                                                   None\n",
       "Grasas Por Porción                                                        None\n",
       "Advertencias de consumo                                                   None\n",
       "itemId                                                                   43461\n",
       "ean                                                                           \n",
       "imageUrl                     https://vivanda.vteximg.com.br/arquivos/ids/19...\n",
       "Value                                                                      7.9\n",
       "IsAvailable                                                               True\n",
       "AvailableQuantity                                                        99999\n",
       "Price                                                                      7.9\n",
       "ListPrice                                                                  7.9\n",
       "PriceWithoutDiscount                                                       7.9\n",
       "PriceValidUntil                                           3000-01-02T00:00:00Z\n",
       "Created                                                    2024-11-13 14:40:12\n",
       "product_uri_json             https://www.vivanda.com.pe/api/catalog_system/...\n",
       "Name: 12000, dtype: object"
      ]
     },
     "execution_count": 26,
     "metadata": {},
     "output_type": "execute_result"
    }
   ],
   "source": [
    "df.iloc[12000]"
   ]
  }
 ],
 "metadata": {
  "colab": {
   "provenance": []
  },
  "kernelspec": {
   "display_name": "Python 3 (ipykernel)",
   "language": "python",
   "name": "python3"
  },
  "language_info": {
   "codemirror_mode": {
    "name": "ipython",
    "version": 3
   },
   "file_extension": ".py",
   "mimetype": "text/x-python",
   "name": "python",
   "nbconvert_exporter": "python",
   "pygments_lexer": "ipython3",
   "version": "3.12.4"
  }
 },
 "nbformat": 4,
 "nbformat_minor": 4
}
